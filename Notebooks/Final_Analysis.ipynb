{
 "cells": [
  {
   "cell_type": "code",
   "execution_count": 1,
   "metadata": {
    "pycharm": {
     "is_executing": false
    }
   },
   "outputs": [],
   "source": [
    "#####################################################################\n",
    "# This notebook is authored by: Ayan Paul                           #\n",
    "# Date: November 2020                                               #\n",
    "# If you use this code or the results from this work please cite:   # \n",
    "# Resurrecting bbh with kinematic shapes                            #\n",
    "# Christophe Grojean, Ayan Paul and Zuoni Qian                      #\n",
    "# arXiv:2011.13945 (https://arxiv.org/abs/2011.13945)               # \n",
    "#####################################################################\n",
    "\n",
    "import numpy as np\n",
    "import pandas as pd\n",
    "import xgboost as xgb\n",
    "from sklearn import ensemble\n",
    "import sklearn.model_selection as ms\n",
    "from sklearn import metrics\n",
    "import shap\n",
    "import matplotlib.pyplot as plt\n",
    "import seaborn as sns\n",
    "import os\n",
    "import math as m\n",
    "import collections\n",
    "import pickle\n",
    "from matplotlib.colors import ListedColormap, LinearSegmentedColormap\n",
    "from colour import Color\n",
    "from matplotlib import rc\n",
    "import sys\n",
    "\n",
    "\n",
    "# To supress warnings from shap\n",
    "if not sys.warnoptions:\n",
    "    import warnings\n",
    "    warnings.simplefilter(\"ignore\")\n",
    "\n",
    "os.environ[\"CUDA_VISIBLE_DEVICES\"] = '0'\n",
    "os.environ['TF_CPP_MIN_LOG_LEVEL'] = '1'\n",
    "N_THREADS = 88 ## Change for reducing load on CPU\n",
    "os.environ['OMP_NUM_THREADS'] = str(N_THREADS)\n",
    "seed = 42\n",
    "\n",
    "colors = ['#3f7f93','#da3b46']\n",
    "cmp_2 = LinearSegmentedColormap.from_list('my_list', [Color(c1).rgb for c1 in colors], N=2)\n",
    "\n",
    "colors = [ '#E4B4C2','#3f7f93','#9448BC','#F6AE2D','#da3b46']\n",
    "cmp_5 = LinearSegmentedColormap.from_list('my_list', [Color(c1).rgb for c1 in colors], N=5)"
   ]
  },
  {
   "cell_type": "markdown",
   "metadata": {},
   "source": [
    "## Helper funtion for I/O, BDT analysis and evaluation of results"
   ]
  },
  {
   "cell_type": "code",
   "execution_count": 2,
   "metadata": {
    "pycharm": {
     "is_executing": false,
     "name": "#%%\n"
    }
   },
   "outputs": [],
   "source": [
    "def fileparser(path, dlist, frac=0.5, sample=0, L=2):\n",
    "    \"\"\" The fileparser to read the events from a csv\n",
    "        argument:\n",
    "            path: the path to the file\n",
    "            dlist: the list of variables to be excluded\n",
    "            frac: the fraction of sample that will be the test sample when sample is set to 0\n",
    "            sample: the number of events that will be the train sample.\n",
    "            L: Luminosity scaling\n",
    "        returns:\n",
    "            df_train: the training dataframe\n",
    "            df_test: the testing dataframe\n",
    "            weight: the weight (related to crosssection)\n",
    "    \"\"\"\n",
    "    df = pd.read_csv(path)\n",
    "    df.drop(columns=dlist, inplace=True)    \n",
    "    n = len(df)\n",
    "    weight = int(round(np.abs(df['weight'].sum()) * 3. * 1e6 * L)) ## The abs(mean()) is taken to make the weight of ybyt +ve\n",
    "    df['weight'] = df['weight']/np.abs(df['weight'])\n",
    "    if sample != 0:\n",
    "        df_train = df.sample(n=sample, random_state=seed)\n",
    "        df_test = df.drop(df_train.index)\n",
    "    else :\n",
    "        df_test = df.sample(frac=frac, random_state=seed)\n",
    "        df_train = df.drop(df_test.index)\n",
    "    return df_train, df_test, weight\n",
    "\n",
    "def runBDT(df, filename='', rf=False, depth=10, sample=1, seed=seed):\n",
    "    \"\"\" The BDT/RF runner\n",
    "        argument:\n",
    "            df: the dataframe with all the events\n",
    "            filename: the name of the pickle file to store the model in\n",
    "            rf: a bolean to toggle between BDT and Random Forest classifiers\n",
    "            sample: The fraction of variables to sample\n",
    "            seed: the seed for the random number generator\n",
    "        returns:\n",
    "            classifier: the classifier\n",
    "            x_test: the features for the test set\n",
    "            y_test: the labels for the test set\n",
    "            shap_values: the SHAP values\n",
    "            X_shap: the feature set with which the shap values have been computed\n",
    "    \"\"\"\n",
    "    mshap = True if depth <= 10 else False\n",
    "    df = df.sample(frac=sample)\n",
    "    X = df.drop(columns=['class', 'weight'])\n",
    "    y = df['class'].values\n",
    "\n",
    "    # Split for training and testing\n",
    "    x_train, x_test, y_train, y_test = ms.train_test_split(X.values, y, test_size=0.2, random_state=seed)\n",
    "    eval_set = [(x_train, y_train), (x_test, y_test)]\n",
    "    \n",
    "    # Fit the decision tree\n",
    "    if rf: \n",
    "        classifier = ensemble.RandomForestClassifier(max_depth=depth, n_estimators=1000, criterion='gini', n_jobs=int(N_THREADS/2), random_state=seed)\n",
    "        classifier = classifier.fit(x_train, y_train)\n",
    "    else: \n",
    "        classifier = xgb.XGBClassifier(max_depth=depth, learning_rate=0.01, objective='multi:softprob', num_class=nchannels,\n",
    "                                         nthread=N_THREADS, subsample=0.5, colsample_bytree=1, n_estimators=5000, random_state=seed)\n",
    "        classifier = classifier.fit(x_train, y_train, early_stopping_rounds=50, eval_set=eval_set,\n",
    "                                eval_metric=[\"merror\", \"mlogloss\"], verbose=False)\n",
    "    \n",
    "    # Predictions\n",
    "    y_pred = classifier.predict(x_test)\n",
    "    print('Accuracy Score: {:4.2f}% '.format(100*metrics.accuracy_score(y_test, y_pred)))\n",
    "    if filename != '': pickle.dump(classifier, open(filename, 'wb'))\n",
    "    \n",
    "    # Calculate the SHAP scores\n",
    "    if mshap:\n",
    "        X_shap = pd.DataFrame(x_test, columns=df.drop(columns=['class', 'weight']).columns)\n",
    "        explainer = shap.TreeExplainer(classifier)\n",
    "        shap_values = explainer.shap_values(X_shap)\n",
    "        \n",
    "    return classifier, x_test, y_test, shap_values, X_shap\n",
    "\n",
    "def eval_training(classifier):\n",
    "    \"\"\" Evaluate the training\n",
    "        argument:\n",
    "            classifier: the BDT classifier\n",
    "    \"\"\"\n",
    "    results = classifier.evals_result()\n",
    "    epochs = len(results['validation_0']['merror'])\n",
    "    x_axis = range(0, epochs)\n",
    "\n",
    "    # plot log loss\n",
    "    plt.figure(figsize=(12,5))\n",
    "    plt.subplot(1, 2, 1)\n",
    "    plt.plot(x_axis, results['validation_0']['mlogloss'], label='train')\n",
    "    plt.plot(x_axis, results['validation_1']['mlogloss'], label='test')\n",
    "    plt.legend()\n",
    "\n",
    "    plt.ylabel('log loss')\n",
    "    plt.title('Classifier log loss')\n",
    "    plt.grid()\n",
    "\n",
    "    # plot classification error\n",
    "    plt.subplot(1, 2, 2)\n",
    "    plt.plot(x_axis, results['validation_0']['merror'], label='train')\n",
    "    plt.plot(x_axis, results['validation_1']['merror'], label='test')\n",
    "    plt.legend()\n",
    "\n",
    "    plt.ylabel('Classification Error')\n",
    "    plt.title('Classification Error')\n",
    "    plt.grid()\n",
    "    plt.show()\n",
    "    \n",
    "def get_mclass(i, df_array, weight_array, ps_exp_class, seed=seed):\n",
    "    \"\"\" This function is used to create the confusion matrix\n",
    "        arguments:\n",
    "            i: integer corresponding to the class number\n",
    "            df_array: the array of the dataframes of the different classes\n",
    "            weight_array: the array of the weights for the different classes\n",
    "            ps_exp_class: the collection of the pseudo experiment events\n",
    "            seed: the seed for the random number generator\n",
    "        returns:\n",
    "            nevents: the number of events\n",
    "            sif: the significance\n",
    "    \"\"\"\n",
    "    mclass = []\n",
    "    for j in range(nchannels):\n",
    "        mclass.append(collections.Counter(classifier.predict(df_array[j].iloc[:,:-2].values))[i]/len(df_array[j])*weight_array[j]/weight_array[i])\n",
    "\n",
    "    sig = np.sqrt(ps_exp_class[i])*mclass[i]/np.sum(mclass)\n",
    "    nevents = np.round(ps_exp_class[i]/np.sum(mclass)*np.array(mclass)).astype(int)\n",
    "    print('sig: {:2.2f}, yb2 events: {}, ybyt events: {}, yt2 events: {}, zh events: {}, bbxaa events: {}'.format(sig, nevents[4], nevents[3], nevents[2], nevents[1], nevents[0]))\n",
    "    return nevents, sig \n",
    "\n",
    "\n",
    "def abs_shap(df_shap, df, shap_plot, names, class_names, cmp):\n",
    "    ''' A function to plot the bar plot for the mean abs SHAP values\n",
    "        arguments:\n",
    "            df_shap: the dataframe of the SHAP values\n",
    "            df: the dataframe for the feature values for which the SHAP values have been determined\n",
    "            shap_plot: The name of the output file for the plot\n",
    "            names: The names of the variables\n",
    "            class_names: names of the classes\n",
    "            cmp: the colour map\n",
    "    '''\n",
    "    rc('text', usetex=True)\n",
    "    plt.rcParams['text.latex.preamble'] = r\"\\usepackage{amsmath}\"\n",
    "    plt.figure(figsize=(5,5))\n",
    "    shap.summary_plot(df_shap, df, color=cmp, class_names=class_names, class_inds='original', plot_size=(5,5), show=False, feature_names=names)\n",
    "    ax = plt.gca()\n",
    "    handles, labels = ax.get_legend_handles_labels()\n",
    "    ax.legend(reversed(handles), reversed(labels), loc='lower right', fontsize=15)\n",
    "    plt.xlabel(r'$\\overline{|S_v|}$', fontsize=15)\n",
    "    ax = plt.gca()\n",
    "    ax.spines[\"top\"].set_visible(True)\n",
    "    ax.spines[\"right\"].set_visible(True)\n",
    "    ax.spines[\"left\"].set_visible(True)\n",
    "    vals = ax.get_xticks()\n",
    "    ax.tick_params(axis='both', which='major', labelsize=15)\n",
    "    for tick in vals:\n",
    "        ax.axvline(x=tick, linestyle='dashed', alpha=0.7, color='#808080', zorder=0, linewidth=0.5)\n",
    "    plt.tight_layout()\n",
    "    plt.savefig(shap_plot, dpi=300)\n",
    "    rc('text', usetex=False)\n",
    "    \n",
    "#define a function to convert logodds to probability for multi-class \n",
    "def logodds_to_proba(logodds):\n",
    "    return np.exp(logodds)/np.exp(logodds).sum()\n",
    "\n",
    "def gini_importance(df, classifier):\n",
    "    impa = np.array([df.columns, classifier.feature_importances_]).T\n",
    "    impa = impa[impa[:,1].argsort()]\n",
    "    plt.figure(figsize=(5,5))\n",
    "    plt.barh(impa.T[0], impa.T[1])\n",
    "    plt.grid(':', alpha=0.5)\n",
    "    plt.xlabel('Gini Gain', fontsize=14)\n",
    "    return plt"
   ]
  },
  {
   "cell_type": "markdown",
   "metadata": {},
   "source": [
    "## 14 TeV Analysis"
   ]
  },
  {
   "cell_type": "markdown",
   "metadata": {},
   "source": [
    "### Load the data"
   ]
  },
  {
   "cell_type": "code",
   "execution_count": 3,
   "metadata": {
    "pycharm": {
     "is_executing": false,
     "name": "#%%\n"
    }
   },
   "outputs": [
    {
     "name": "stdout",
     "output_type": "stream",
     "text": [
      "No. of yb2 events: train = 20000, test = 26740\n",
      "No. of ybyt events: train = 20000, test = 18341\n",
      "No. of yt2 events: train = 20000, test = 81774\n",
      "No. of zh events: train = 40000, test = 139021\n",
      "No. of bbxaa events: train = 100000, test = 37488\n"
     ]
    }
   ],
   "source": [
    "dlist = ['dphibb', 'etaaa', 'ptb2', 'drbamin', 'met', 'etaa2', 'etab1', 'etaa1', 'nbjet', 'etab2']\n",
    "names = [r'$n_{jet}$', r'$p_T^{b_1}$', r'$p_T^{\\gamma_1}$', r'$p_T^{\\gamma_2}$', r'$p_T^{\\gamma\\gamma}$', r'$m_{bb}$', r'$m_{\\gamma\\gamma}$', r'$m_{b_1h}$', r'$m_{bbh}$',\n",
    "           r'$H_T$', r'$\\delta R_{b\\gamma_1}$', r'$\\delta\\phi_{b\\gamma_1}$']\n",
    "\n",
    "# 14 TeV\n",
    "df_yb2, df_yb2_test, weight_yb2 = fileparser(\"../simulations/HL-LHC/yb2.csv\", dlist, sample=20000)\n",
    "df_ybyt, df_ybyt_test, weight_ybyt = fileparser(\"../simulations/HL-LHC/ybyt.csv\", dlist, sample=20000)\n",
    "df_yt2, df_yt2_test, weight_yt2 = fileparser(\"../simulations/HL-LHC/yt2.csv\", dlist, sample=20000)\n",
    "df_zh, df_zh_test, weight_zh = fileparser(\"../simulations/HL-LHC/zh.csv\", dlist, sample=40000)\n",
    "df_bbxaa, df_bbxaa_test, weight_bbxaa = fileparser(\"../simulations/HL-LHC/bbxaa.csv\", dlist, sample=100000)\n",
    "\n",
    "print(\"No. of yb2 events: train = {}, test = {}\".format(df_yb2.shape[0],df_yb2_test.shape[0]))\n",
    "print(\"No. of ybyt events: train = {}, test = {}\".format(df_ybyt.shape[0],df_ybyt_test.shape[0]))\n",
    "print(\"No. of yt2 events: train = {}, test = {}\".format(df_yt2.shape[0],df_yt2_test.shape[0]))\n",
    "print(\"No. of zh events: train = {}, test = {}\".format(df_zh.shape[0],df_zh_test.shape[0]))\n",
    "print(\"No. of bbxaa events: train = {}, test = {}\".format(df_bbxaa.shape[0],df_bbxaa_test.shape[0]))"
   ]
  },
  {
   "cell_type": "markdown",
   "metadata": {},
   "source": [
    "## The Zh vs. yb2 analysis\n",
    "\n",
    "- Add the two datasets\n",
    "- Run the BDT and make the SHAP plot\n",
    "- Check the accuracy of the classifier\n",
    "- make the discriminator plot"
   ]
  },
  {
   "cell_type": "code",
   "execution_count": 4,
   "metadata": {},
   "outputs": [],
   "source": [
    "channels = [df_yb2, df_zh]\n",
    "nchannels = len(channels)\n",
    "df_train = pd.concat(channels, ignore_index=True)\n",
    "df_train = df_train.sample(frac=1).reset_index(drop=True)"
   ]
  },
  {
   "cell_type": "code",
   "execution_count": 5,
   "metadata": {
    "pycharm": {
     "is_executing": false,
     "name": "#%%\n"
    }
   },
   "outputs": [
    {
     "name": "stdout",
     "output_type": "stream",
     "text": [
      "Accuracy Score: 79.62% \n"
     ]
    },
    {
     "data": {
      "image/png": "[encoded data removed]",
      "text/plain": [
       "<Figure size 360x360 with 1 Axes>"
      ]
     },
     "metadata": {
      "needs_background": "light"
     },
     "output_type": "display_data"
    }
   ],
   "source": [
    "class_names = [r'$Zh$', r'$y_b^2$']\n",
    "filename = 'models/HL-LHC-BDT/hbb-BDT-2class-bg-1b-met-ht-btag.pickle.dat' ## The pickle model store if necessary.\n",
    "shap_plot = '../plots/shap-zh-yb2.pdf'\n",
    "\n",
    "classifier, x_test, y_test, shap_values_2, X_shap_2 = runBDT(df_train, filename)\n",
    "abs_shap(shap_values_2, X_shap_2, shap_plot, names=names, class_names=class_names, cmp=cmp_2)"
   ]
  },
  {
   "cell_type": "code",
   "execution_count": 7,
   "metadata": {},
   "outputs": [
    {
     "data": {
      "text/plain": [
       "0.5182613607403097"
      ]
     },
     "execution_count": 7,
     "metadata": {},
     "output_type": "execute_result"
    }
   ],
   "source": [
    "y_pred = classifier.predict(x_test)\n",
    "metrics.cohen_kappa_score(y_test, y_pred)"
   ]
  },
  {
   "cell_type": "code",
   "execution_count": 8,
   "metadata": {},
   "outputs": [
    {
     "data": {
      "text/plain": [
       "array([[7179,  739],\n",
       "       [1707, 2375]])"
      ]
     },
     "execution_count": 8,
     "metadata": {},
     "output_type": "execute_result"
    }
   ],
   "source": [
    "metrics.confusion_matrix(y_test, y_pred)"
   ]
  },
  {
   "cell_type": "code",
   "execution_count": 8,
   "metadata": {},
   "outputs": [
    {
     "data": {
      "image/png": "[encoded data removed]",
      "text/plain": [
       "<Figure size 360x360 with 1 Axes>"
      ]
     },
     "metadata": {
      "needs_background": "light"
     },
     "output_type": "display_data"
    }
   ],
   "source": [
    "plt = gini_importance(X_shap_2, classifier)\n",
    "plt.show()"
   ]
  },
  {
   "cell_type": "code",
   "execution_count": 53,
   "metadata": {},
   "outputs": [],
   "source": [
    "shap_arr = np.array(shap_values_2)"
   ]
  },
  {
   "cell_type": "code",
   "execution_count": 57,
   "metadata": {},
   "outputs": [
    {
     "data": {
      "text/plain": [
       "array([-3.41171511e-02,  1.37043774e-01,  1.11065954e-01, -1.43633798e-01,\n",
       "       -6.37490153e-02, -3.04664280e-02,  2.10722792e-05,  1.91934943e-01,\n",
       "        2.61708684e-02,  2.76279092e-01, -3.03548388e-02,  4.95989621e-02],\n",
       "      dtype=float32)"
      ]
     },
     "execution_count": 57,
     "metadata": {},
     "output_type": "execute_result"
    }
   ],
   "source": [
    "shap_arr[0][:][0]"
   ]
  },
  {
   "cell_type": "code",
   "execution_count": 41,
   "metadata": {},
   "outputs": [],
   "source": [
    "df_test = X_shap_2.copy(deep=True)\n",
    "shap_array = np.array(shap_values_2)\n",
    "df_shap_1 = pd.DataFrame(shap_array[0], columns=['S_' + str(col) + '_1' for col in df_test.columns])\n",
    "df_shap_4 = pd.DataFrame(shap_array[1], columns=['S_' + str(col) + '_4' for col in df_test.columns])\n",
    "df_out = pd.concat([df_test, df_shap_1, df_shap_4], axis=1)\n",
    "df_out['class'] = y_test\n",
    "df_out.to_csv('models/HL-LHC-BDT/shapley_values-zh-yb2-channel.txt', sep='\\t')"
   ]
  },
  {
   "cell_type": "code",
   "execution_count": 6,
   "metadata": {
    "pycharm": {
     "is_executing": false,
     "name": "#%%\n"
    }
   },
   "outputs": [
    {
     "name": "stdout",
     "output_type": "stream",
     "text": [
      "Accuracy Score: 74.30% \n"
     ]
    }
   ],
   "source": [
    "classifier = pickle.load(open('models/HL-LHC-BDT/hbb-BDT-2class-bg-1b-met-ht-btag.pickle.dat', 'rb')) ## If model is stored\n",
    "comb_test = pd.concat([df_yb2_test.iloc[:,:-1].sample(n=20000, random_state=seed), df_zh_test.iloc[:,:-1].sample(n=20000, random_state=seed)])\n",
    "print('Accuracy Score: {:4.2f}% '.format(100*metrics.accuracy_score(comb_test['class'].values, classifier.predict(comb_test.drop(columns=['class']).values))))"
   ]
  },
  {
   "cell_type": "code",
   "execution_count": 39,
   "metadata": {
    "pycharm": {
     "is_executing": false,
     "name": "#%%\n"
    }
   },
   "outputs": [
    {
     "name": "stdout",
     "output_type": "stream",
     "text": [
      "Accuracy Score for yb2: 57.88% \n",
      "Accuracy Score for zh: 90.97% \n"
     ]
    },
    {
     "data": {
      "image/png": "[encoded data removed]",
      "text/plain": [
       "<Figure size 432x288 with 1 Axes>"
      ]
     },
     "metadata": {
      "needs_background": "light"
     },
     "output_type": "display_data"
    }
   ],
   "source": [
    "disc = 1\n",
    "enc=100\n",
    "yb2_p = pd.DataFrame(classifier.predict_proba(df_yb2_test.drop(columns=['class', 'weight']).values)[:,disc])\n",
    "print('Accuracy Score for yb2: {:4.2f}% '.format(100*metrics.accuracy_score(df_yb2_test['class'].values, classifier.predict(df_yb2_test.drop(columns=['class', 'weight']).values))))\n",
    "yb2_p['weight'] = df_yb2_test['weight'].values\n",
    "\n",
    "zh_p = pd.DataFrame(classifier.predict_proba(df_zh_test.drop(columns=['class', 'weight']).values)[:,disc])\n",
    "print('Accuracy Score for zh: {:4.2f}% '.format(100*metrics.accuracy_score(df_zh_test['class'].values, classifier.predict(df_zh_test.drop(columns=['class', 'weight']).values))))\n",
    "zh_p['weight'] = df_zh_test['weight'].values\n",
    "\n",
    "yb2_pred = yb2_p.sample(n=round(weight_yb2*1.5*enc), replace=True, random_state=seed).reset_index(drop=True)\n",
    "zh_pred = zh_p.sample(n=round(weight_zh*1.3*enc), replace=True, random_state=seed).reset_index(drop=True)\n",
    "\n",
    "plt.figure(figsize=(6,4))\n",
    "rc('text', usetex=True)\n",
    "plt.rcParams['text.latex.preamble'] = [r\"\\usepackage{amsmath}\"]\n",
    "sns.distplot(yb2_pred[0], kde=False, bins=np.arange(0, 1 + 0.04, 0.04),\n",
    "             hist_kws={'alpha': 0.8, 'histtype': 'step', 'linewidth': 3, 'weights': [1/enc]*len(yb2_pred[0])}, label=r'$y_b^2$', color='#da3b46')\n",
    "sns.distplot(zh_pred[0], kde=False, bins=np.arange(0, 1 + 0.04, 0.04),\n",
    "             hist_kws={'alpha': 0.8, 'histtype': 'step', 'linewidth': 3, 'weights': [1/enc]*len(zh_pred[0])}, label=r'$Zh$', color='#3f7f93')\n",
    "plt.legend(loc='upper center', fontsize=14)\n",
    "plt.grid(linestyle='dashed', alpha=0.4, color='#808080')\n",
    "ax = plt.gca()\n",
    "ax.tick_params(axis='both', which='major', labelsize=14)\n",
    "plt.xlabel(r'$p(y_b^2)$', fontsize=14)\n",
    "plt.ylabel(r'$N$', fontsize=14)\n",
    "plt.yscale('log')\n",
    "plt.tight_layout()\n",
    "plt.savefig('../plots/zh-yb2-BDT-dist.pdf', dpi=300)"
   ]
  },
  {
   "cell_type": "code",
   "execution_count": 27,
   "metadata": {},
   "outputs": [
    {
     "data": {
      "text/plain": [
       "array([[584,  61],\n",
       "       [250, 334]])"
      ]
     },
     "execution_count": 27,
     "metadata": {},
     "output_type": "execute_result"
    }
   ],
   "source": [
    "df_test_1 = df_yb2_test.sample(n=round(weight_yb2*1.5))\n",
    "df_test_0 = df_zh_test.sample(n=round(weight_zh*1.3))\n",
    "\n",
    "y_test_1 = df_test_1['class'].values\n",
    "y_test_0 = df_test_0['class'].values\n",
    "y_test = np.concatenate((y_test_1, y_test_0))\n",
    "\n",
    "y_pred_1 = classifier.predict(df_test_1.drop(columns=['class', 'weight']).values)\n",
    "y_pred_0 = classifier.predict(df_test_0.drop(columns=['class', 'weight']).values)\n",
    "y_pred = np.concatenate((y_pred_1, y_pred_0))\n",
    "\n",
    "metrics.confusion_matrix(y_true=y_test, y_pred=y_pred)"
   ]
  },
  {
   "cell_type": "markdown",
   "metadata": {},
   "source": [
    "## The yt2 vs. yb2 analysis\n",
    "\n",
    "- Add the two datasets\n",
    "- Run the BDT and make the SHAP plot\n",
    "- Check the accuracy of the classifier\n",
    "- make the discriminator plot"
   ]
  },
  {
   "cell_type": "code",
   "execution_count": 9,
   "metadata": {},
   "outputs": [],
   "source": [
    "channels = [df_yb2, df_yt2]\n",
    "nchannels = len(channels)\n",
    "df_train = pd.concat(channels, ignore_index=True)\n",
    "df_train = df_train.sample(frac=1).reset_index(drop=True)"
   ]
  },
  {
   "cell_type": "code",
   "execution_count": 10,
   "metadata": {
    "pycharm": {
     "is_executing": false,
     "name": "#%%\n"
    }
   },
   "outputs": [
    {
     "name": "stdout",
     "output_type": "stream",
     "text": [
      "Accuracy Score: 68.24% \n"
     ]
    },
    {
     "data": {
      "image/png": "[encoded data removed]",
      "text/plain": [
       "<Figure size 360x360 with 1 Axes>"
      ]
     },
     "metadata": {
      "needs_background": "light"
     },
     "output_type": "display_data"
    }
   ],
   "source": [
    "class_names = [r'$y_t^2$', r'$y_b^2$']\n",
    "filename = 'models/HL-LHC-BDT/hbb-BDT-2class-yb2-yt2-bg-1b-met-ht-btag.pickle.dat' ## The pickle model store if necessary.\n",
    "shap_plot = '../plots/shap-yt2-yb2.pdf'\n",
    "\n",
    "classifier, x_test, y_test, shap_values_2, X_shap_2 = runBDT(df_train, filename)\n",
    "abs_shap(shap_values_2, X_shap_2, shap_plot, names=names, class_names=class_names, cmp=cmp_2)"
   ]
  },
  {
   "cell_type": "code",
   "execution_count": 11,
   "metadata": {},
   "outputs": [
    {
     "data": {
      "image/png": "[encoded data removed]",
      "text/plain": [
       "<Figure size 360x360 with 1 Axes>"
      ]
     },
     "metadata": {
      "needs_background": "light"
     },
     "output_type": "display_data"
    }
   ],
   "source": [
    "plt = gini_importance(X_shap_2, classifier)\n",
    "plt.show()"
   ]
  },
  {
   "cell_type": "code",
   "execution_count": 10,
   "metadata": {
    "pycharm": {
     "is_executing": false,
     "name": "#%%\n"
    }
   },
   "outputs": [
    {
     "name": "stdout",
     "output_type": "stream",
     "text": [
      "Accuracy Score: 68.22% \n"
     ]
    }
   ],
   "source": [
    "classifier = pickle.load(open('models/HL-LHC-BDT/hbb-BDT-2class-yb2-yt2-bg-1b-met-ht-btag.pickle.dat', 'rb')) ## If model is stored\n",
    "comb_test = pd.concat([df_yb2_test.iloc[:,:-1].sample(n=20000, random_state=seed), df_yt2_test.iloc[:,:-1].sample(n=20000, random_state=seed)])\n",
    "print('Accuracy Score: {:4.2f}% '.format(100*metrics.accuracy_score(comb_test['class'].values, classifier.predict(comb_test.drop(columns=['class']).values))))"
   ]
  },
  {
   "cell_type": "code",
   "execution_count": 11,
   "metadata": {
    "pycharm": {
     "is_executing": false,
     "name": "#%%\n"
    }
   },
   "outputs": [
    {
     "name": "stdout",
     "output_type": "stream",
     "text": [
      "Accuracy Score for yb2: 73.51% \n",
      "Accuracy Score for yt2: 63.30% \n"
     ]
    },
    {
     "data": {
      "image/png": "[encoded data removed]",
      "text/plain": [
       "<Figure size 432x288 with 1 Axes>"
      ]
     },
     "metadata": {
      "needs_background": "light"
     },
     "output_type": "display_data"
    }
   ],
   "source": [
    "disc = 1\n",
    "enc=1\n",
    "yb2_p = pd.DataFrame(classifier.predict_proba(df_yb2_test.drop(columns=['class', 'weight']).values)[:,disc])\n",
    "print('Accuracy Score for yb2: {:4.2f}% '.format(100*metrics.accuracy_score(df_yb2_test['class'].values, classifier.predict(df_yb2_test.drop(columns=['class', 'weight']).values))))\n",
    "yb2_p['weight'] = df_yb2_test['weight'].values\n",
    "\n",
    "yt2_p = pd.DataFrame(classifier.predict_proba(df_yt2_test.drop(columns=['class', 'weight']).values)[:,disc])\n",
    "print('Accuracy Score for yt2: {:4.2f}% '.format(100*metrics.accuracy_score(df_yt2_test['class'].values, classifier.predict(df_yt2_test.drop(columns=['class', 'weight']).values))))\n",
    "yt2_p['weight'] = df_yt2_test['weight'].values\n",
    "\n",
    "yb2_pred = yb2_p.sample(n=round(weight_yb2*1.5*enc), replace=True, random_state=seed).reset_index(drop=True)\n",
    "yt2_pred = yt2_p.sample(n=round(weight_yt2*2.5*enc), replace=True, random_state=seed).reset_index(drop=True)\n",
    "\n",
    "plt.figure(figsize=(6,4))\n",
    "rc('text', usetex=True)\n",
    "plt.rcParams['text.latex.preamble'] = [r\"\\usepackage{amsmath}\"]\n",
    "sns.distplot(yb2_pred[0], kde=False, bins=np.arange(0, 1 + 0.04, 0.04),\n",
    "             hist_kws={'alpha': 0.8, 'histtype': 'step', 'linewidth': 3, 'weights': [1/enc]*len(yb2_pred[0])}, label=r'$y_b^2$', color='#da3b46')\n",
    "sns.distplot(yt2_pred[0], kde=False, bins=np.arange(0, 1 + 0.04, 0.04),\n",
    "             hist_kws={'alpha': 0.8, 'histtype': 'step', 'linewidth': 3, 'weights': [1/enc]*len(yt2_pred[0])}, label=r'$y_t^2$', color='#3f7f93')\n",
    "plt.legend(loc='upper right', fontsize=14)\n",
    "plt.grid(linestyle='dashed', alpha=0.4, color='#808080')\n",
    "ax = plt.gca()\n",
    "ax.tick_params(axis='both', which='major', labelsize=14)\n",
    "plt.xlabel(r'$p(y_b^2)$', fontsize=14)\n",
    "plt.ylabel(r'$N$', fontsize=14)\n",
    "# plt.yscale('log')\n",
    "plt.tight_layout()\n",
    "plt.savefig('../plots/yt2-yb2-BDT-dist.pdf', dpi=300)"
   ]
  },
  {
   "cell_type": "markdown",
   "metadata": {},
   "source": [
    "## The 5 class classfication\n",
    "\n",
    "- Add the five datasets\n",
    "- Run the BDT and make the SHAP plot\n",
    "- Check the accuracy of the classifier\n",
    "- make the discriminator plot\n",
    "- Build the confusions matrix by doing the following\n",
    "    - build the confusion matrix for the positive and negative weights of ybyt separately\n",
    "    - combine the two to get the confusion matrix"
   ]
  },
  {
   "cell_type": "code",
   "execution_count": 12,
   "metadata": {},
   "outputs": [],
   "source": [
    "channels = [df_yb2, df_ybyt, df_yt2, df_zh, df_bbxaa]\n",
    "nchannels = len(channels)\n",
    "df_train = pd.concat(channels, ignore_index=True)\n",
    "df_train = df_train.sample(frac=1).reset_index(drop=True)\n",
    "\n",
    "# Special treatment for ybyt\n",
    "df_tmp = pd.read_csv(\"../simulations/HL-LHC/ybyt.csv\")\n",
    "ybyt_ratio = df_tmp[df_tmp['weight']<0].shape[0]/df_tmp[df_tmp['weight']>0].shape[0]"
   ]
  },
  {
   "cell_type": "markdown",
   "metadata": {},
   "source": [
    "### Run this cell only if you want to rerun the classifier"
   ]
  },
  {
   "cell_type": "code",
   "execution_count": 13,
   "metadata": {
    "pycharm": {
     "is_executing": false,
     "name": "#%%\n"
    }
   },
   "outputs": [
    {
     "name": "stdout",
     "output_type": "stream",
     "text": [
      "Accuracy Score: 63.64% \n"
     ]
    },
    {
     "data": {
      "image/png": "[encoded data removed]",
      "text/plain": [
       "<Figure size 360x360 with 1 Axes>"
      ]
     },
     "metadata": {
      "needs_background": "light"
     },
     "output_type": "display_data"
    }
   ],
   "source": [
    "class_names = [r'$bb\\gamma\\gamma$', r'$Zh$', r'$y_t^2$', r'$y_by_t$', r'$y_b^2$']\n",
    "filename = 'models/HL-LHC-BDT/hbb-BDT-multiclass-bg-1b-met-ht-btag.pickle.dat' ## The pickle model store if necessary.\n",
    "shap_plot = '../plots/shap-5.pdf'\n",
    "\n",
    "classifier, x_test, y_test, shap_values_5, X_shap_5= runBDT(df_train, filename)\n",
    "abs_shap(shap_values_5, X_shap_5, shap_plot, names=names, class_names=class_names, cmp=cmp_5)"
   ]
  },
  {
   "cell_type": "code",
   "execution_count": 15,
   "metadata": {},
   "outputs": [
    {
     "data": {
      "image/png": "[encoded data removed]",
      "text/plain": [
       "<Figure size 360x360 with 1 Axes>"
      ]
     },
     "metadata": {
      "needs_background": "light"
     },
     "output_type": "display_data"
    }
   ],
   "source": [
    "plt = gini_importance(X_shap_5, classifier)\n",
    "plt.show()"
   ]
  },
  {
   "cell_type": "code",
   "execution_count": 32,
   "metadata": {},
   "outputs": [],
   "source": [
    "df_test = X_shap_5.copy(deep=True)\n",
    "shap_array = np.array(shap_values_5)\n",
    "df_shap_0 = pd.DataFrame(shap_array[0], columns=['S_' + str(col) + '_0' for col in df_test.columns])\n",
    "df_shap_1 = pd.DataFrame(shap_array[1], columns=['S_' + str(col) + '_1' for col in df_test.columns])\n",
    "df_shap_2 = pd.DataFrame(shap_array[2], columns=['S_' + str(col) + '_2' for col in df_test.columns])\n",
    "df_shap_3 = pd.DataFrame(shap_array[3], columns=['S_' + str(col) + '_3' for col in df_test.columns])\n",
    "df_shap_4 = pd.DataFrame(shap_array[4], columns=['S_' + str(col) + '_4' for col in df_test.columns])\n",
    "df_out = pd.concat([df_test, df_shap_0, df_shap_1, df_shap_2, df_shap_3, df_shap_4], axis=1)\n",
    "df_out['class'] = y_test\n",
    "df_out.to_csv('models/HL-LHC-BDT/shapley_values-5-channel.txt', sep='\\t')"
   ]
  },
  {
   "cell_type": "markdown",
   "metadata": {},
   "source": [
    "#### Load the Classifier and run the analysis. The Accuracy is measured with eqisized samples"
   ]
  },
  {
   "cell_type": "code",
   "execution_count": 14,
   "metadata": {
    "pycharm": {
     "is_executing": false,
     "name": "#%%\n"
    }
   },
   "outputs": [
    {
     "name": "stdout",
     "output_type": "stream",
     "text": [
      "Accuracy Score: 45.48% \n"
     ]
    }
   ],
   "source": [
    "classifier = pickle.load(open('models/HL-LHC-BDT/hbb-BDT-multiclass-bg-1b-met-ht-btag.pickle.dat', 'rb')) ## If model is stored\n",
    "comb_test = pd.concat([df_yb2_test.iloc[:,:-1].sample(n=10000, random_state=seed), df_ybyt_test.iloc[:,:-1].sample(n=10000, random_state=seed),\n",
    "                       df_yt2_test.iloc[:,:-1].sample(n=10000, random_state=seed), df_zh_test.iloc[:,:-1].sample(n=10000, random_state=seed),\n",
    "                       df_bbxaa_test.iloc[:,:-1].sample(n=10000, random_state=seed)])\n",
    "print('Accuracy Score: {:4.2f}% '.format(100*metrics.accuracy_score(comb_test['class'].values, classifier.predict(comb_test.drop(columns=['class']).values))))"
   ]
  },
  {
   "cell_type": "markdown",
   "metadata": {},
   "source": [
    "#### Check the accuracy of each sample and display the classification plot"
   ]
  },
  {
   "cell_type": "code",
   "execution_count": 15,
   "metadata": {
    "pycharm": {
     "is_executing": false,
     "name": "#%%\n"
    }
   },
   "outputs": [
    {
     "name": "stdout",
     "output_type": "stream",
     "text": [
      "Accuracy Score for yb2: 28.25% \n",
      "Accuracy Score for ybyt: 21.02% \n",
      "Accuracy Score for yt2: 25.49% \n",
      "Accuracy Score for zh: 63.97% \n",
      "Accuracy Score for bbxaa: 87.85% \n"
     ]
    },
    {
     "data": {
      "image/png": "[encoded data removed]",
      "text/plain": [
       "<Figure size 432x288 with 1 Axes>"
      ]
     },
     "metadata": {
      "needs_background": "light"
     },
     "output_type": "display_data"
    }
   ],
   "source": [
    "disc = 4\n",
    "yb2_p = pd.DataFrame(classifier.predict_proba(df_yb2_test.drop(columns=['class', 'weight']).values)[:,disc])\n",
    "print('Accuracy Score for yb2: {:4.2f}% '.format(100*metrics.accuracy_score(df_yb2_test['class'].values, classifier.predict(df_yb2_test.drop(columns=['class', 'weight']).values))))\n",
    "yb2_p['weight'] = df_yb2_test['weight'].values\n",
    "\n",
    "ybyt_p = pd.DataFrame(classifier.predict_proba(df_ybyt_test.drop(columns=['class', 'weight']).values)[:,disc])\n",
    "print('Accuracy Score for ybyt: {:4.2f}% '.format(100*metrics.accuracy_score(df_ybyt_test['class'].values, classifier.predict(df_ybyt_test.drop(columns=['class', 'weight']).values))))\n",
    "ybyt_p['weight'] = df_ybyt_test['weight'].values\n",
    "\n",
    "yt2_p = pd.DataFrame(classifier.predict_proba(df_yt2_test.drop(columns=['class', 'weight']).values)[:,disc])\n",
    "print('Accuracy Score for yt2: {:4.2f}% '.format(100*metrics.accuracy_score(df_yt2_test['class'].values, classifier.predict(df_yt2_test.drop(columns=['class', 'weight']).values))))\n",
    "yt2_p['weight'] = df_yt2_test['weight'].values\n",
    "\n",
    "zh_p = pd.DataFrame(classifier.predict_proba(df_zh_test.drop(columns=['class', 'weight']).values)[:,disc])\n",
    "print('Accuracy Score for zh: {:4.2f}% '.format(100*metrics.accuracy_score(df_zh_test['class'].values, classifier.predict(df_zh_test.drop(columns=['class', 'weight']).values))))\n",
    "zh_p['weight'] = df_zh_test['weight'].values\n",
    "\n",
    "bbxaa_p = pd.DataFrame(classifier.predict_proba(df_bbxaa_test.drop(columns=['class', 'weight']).values)[:,disc])\n",
    "print('Accuracy Score for bbxaa: {:4.2f}% '.format(100*metrics.accuracy_score(df_bbxaa_test['class'].values, classifier.predict(df_bbxaa_test.drop(columns=['class', 'weight']).values))))\n",
    "bbxaa_p['weight'] = df_bbxaa_test['weight'].values\n",
    "\n",
    "yb2_pred = yb2_p.sample(n=round(weight_yb2*1.5), replace=True, random_state=seed).reset_index(drop=True)\n",
    "ybyt_pred = ybyt_p.sample(n=round(weight_ybyt*1.9), replace=True, random_state=seed).reset_index(drop=True)\n",
    "yt2_pred = yt2_p.sample(n=round(weight_yt2*2.5), replace=True, random_state=seed).reset_index(drop=True)\n",
    "zh_pred = zh_p.sample(n=round(weight_zh*1.3), replace=True, random_state=seed).reset_index(drop=True)\n",
    "bbxaa_pred = bbxaa_p.sample(n=round(weight_bbxaa*1.5), replace=True, random_state=seed).reset_index(drop=True)\n",
    "\n",
    "plt.figure(figsize=(6,4))\n",
    "sns.distplot(yb2_pred[0], kde=False, bins=np.arange(0, 1 + 0.04, 0.04), hist_kws={'alpha': 0.8, 'histtype': 'step', 'linewidth': 3}, label=r'$y_b^2$')\n",
    "sns.distplot(ybyt_pred[0], kde=False, bins=np.arange(0, 1 + 0.04, 0.04), hist_kws={'alpha': 0.8, 'histtype': 'step', 'linewidth': 3}, label=r'$y_by_t$')\n",
    "sns.distplot(yt2_pred[0], kde=False, bins=np.arange(0, 1 + 0.04, 0.04), hist_kws={'alpha': 0.8, 'histtype': 'step', 'linewidth': 3}, label=r'$y_t^2$')\n",
    "sns.distplot(zh_pred[0], kde=False, bins=np.arange(0, 1 + 0.04, 0.04), hist_kws={'alpha': 0.8, 'histtype': 'step', 'linewidth': 3}, label=r'$Zh$')\n",
    "sns.distplot(bbxaa_pred[0], kde=False, bins=np.arange(0, 1 + 0.04, 0.04), hist_kws={'alpha': 0.8, 'histtype': 'step', 'linewidth': 3}, label=r'$bb\\gamma\\gamma$')\n",
    "plt.legend()\n",
    "plt.grid(linestyle='dashed', alpha=0.4, color='#808080')\n",
    "plt.yscale('log')"
   ]
  },
  {
   "cell_type": "markdown",
   "metadata": {},
   "source": [
    "#### Since ybyt has both positive and negative weights the confusion matrix has to be created separately for each"
   ]
  },
  {
   "cell_type": "code",
   "execution_count": 16,
   "metadata": {},
   "outputs": [
    {
     "name": "stdout",
     "output_type": "stream",
     "text": [
      "sig: 3.22, yb2 events: 163, ybyt events: 5, yt2 events: 226, zh events: 21, bbxaa events: 2143\n",
      "sig: 0.39, yb2 events: 55, ybyt events: 20, yt2 events: 112, zh events: 28, bbxaa events: 2395\n",
      "sig: 10.44, yb2 events: 53, ybyt events: 4, yt2 events: 467, zh events: 22, bbxaa events: 1454\n",
      "sig: 4.32, yb2 events: 121, ybyt events: 24, yt2 events: 542, zh events: 413, bbxaa events: 8047\n",
      "sig: 317.62, yb2 events: 189, ybyt events: 41, yt2 events: 489, zh events: 161, bbxaa events: 101758\n"
     ]
    }
   ],
   "source": [
    "df_array = [df_bbxaa_test, df_zh_test, df_yt2_test, df_ybyt_test, df_yb2_test]\n",
    "weight_array = [weight_bbxaa*1.5, weight_zh*1.3, weight_yt2*2.5, weight_ybyt*1.9, weight_yb2*1.5]\n",
    "\n",
    "ps_exp_class = collections.Counter(classifier.predict(pd.concat([df_array[4].iloc[:,:-2].sample(n=round(weight_array[4]), random_state=seed), \n",
    "                                                                     df_array[3].iloc[:,:-2].sample(n=round(weight_array[3]), random_state=seed), \n",
    "                                                                     df_array[2].iloc[:,:-2].sample(n=round(weight_array[2]), random_state=seed), \n",
    "                                                                     df_array[1].iloc[:,:-2].sample(n=round(weight_array[1]), random_state=seed),\n",
    "                                                                     df_array[0].iloc[:,:-2].sample(n=round(weight_array[0]), random_state=seed, replace=True)]).values))\n",
    "\n",
    "nevents_yb2, sig_yb2 = get_mclass(4, df_array, weight_array, ps_exp_class)\n",
    "nevents_ybyt, sig_ybyt = get_mclass(3, df_array, weight_array, ps_exp_class)\n",
    "nevents_yt2, sig_yt2 = get_mclass(2, df_array, weight_array, ps_exp_class)\n",
    "nevents_zh, sig_zh = get_mclass(1, df_array, weight_array, ps_exp_class)\n",
    "nevents_bbxaa, sig_bbxaa = get_mclass(0, df_array, weight_array, ps_exp_class)\n",
    "confusion = np.column_stack((nevents_yb2, nevents_ybyt, nevents_yt2, nevents_zh, nevents_bbxaa))"
   ]
  },
  {
   "cell_type": "code",
   "execution_count": 17,
   "metadata": {},
   "outputs": [
    {
     "name": "stdout",
     "output_type": "stream",
     "text": [
      "sig: 3.23, yb2 events: 163, ybyt events: 3, yt2 events: 226, zh events: 21, bbxaa events: 2146\n",
      "sig: 0.20, yb2 events: 55, ybyt events: 10, yt2 events: 112, zh events: 28, bbxaa events: 2404\n",
      "sig: 10.45, yb2 events: 53, ybyt events: 2, yt2 events: 467, zh events: 22, bbxaa events: 1455\n",
      "sig: 4.32, yb2 events: 121, ybyt events: 18, yt2 events: 543, zh events: 413, bbxaa events: 8053\n",
      "sig: 317.67, yb2 events: 189, ybyt events: 27, yt2 events: 489, zh events: 161, bbxaa events: 101772\n"
     ]
    }
   ],
   "source": [
    "df_ybyt_test_pos = df_ybyt_test[df_ybyt_test['weight']==1]\n",
    "df_array = [df_bbxaa_test, df_zh_test, df_yt2_test, df_ybyt_test_pos, df_yb2_test]\n",
    "weight_array = [weight_bbxaa*1.5, weight_zh*1.3, weight_yt2*2.5, (1./(ybyt_ratio-1.))*weight_ybyt*1.9, weight_yb2*1.5]\n",
    "\n",
    "ps_exp_class_pos = collections.Counter(classifier.predict(pd.concat([df_array[4].iloc[:,:-2].sample(n=round(weight_array[4]), random_state=seed), \n",
    "                                                                     df_array[3].iloc[:,:-2].sample(n=round(weight_array[3]), random_state=seed), \n",
    "                                                                     df_array[2].iloc[:,:-2].sample(n=round(weight_array[2]), random_state=seed), \n",
    "                                                                     df_array[1].iloc[:,:-2].sample(n=round(weight_array[1]), random_state=seed),\n",
    "                                                                     df_array[0].iloc[:,:-2].sample(n=round(weight_array[0]), random_state=seed, replace=True)]).values))\n",
    "\n",
    "nevents_yb2, sig_yb2 = get_mclass(4, df_array, weight_array, ps_exp_class)\n",
    "nevents_ybyt, sig_ybyt = get_mclass(3, df_array, weight_array, ps_exp_class)\n",
    "nevents_yt2, sig_yt2 = get_mclass(2, df_array, weight_array, ps_exp_class)\n",
    "nevents_zh, sig_zh = get_mclass(1, df_array, weight_array, ps_exp_class)\n",
    "nevents_bbxaa, sig_bbxaa = get_mclass(0, df_array, weight_array, ps_exp_class)\n",
    "confusion_pos = np.column_stack((nevents_yb2, nevents_ybyt, nevents_yt2, nevents_zh, nevents_bbxaa))"
   ]
  },
  {
   "cell_type": "code",
   "execution_count": 18,
   "metadata": {},
   "outputs": [
    {
     "name": "stdout",
     "output_type": "stream",
     "text": [
      "sig: 3.22, yb2 events: 163, ybyt events: 9, yt2 events: 225, zh events: 21, bbxaa events: 2140\n",
      "sig: 0.68, yb2 events: 54, ybyt events: 35, yt2 events: 111, zh events: 28, bbxaa events: 2381\n",
      "sig: 10.42, yb2 events: 53, ybyt events: 7, yt2 events: 466, zh events: 22, bbxaa events: 1452\n",
      "sig: 4.31, yb2 events: 121, ybyt events: 37, yt2 events: 541, zh events: 412, bbxaa events: 8036\n",
      "sig: 317.55, yb2 events: 189, ybyt events: 67, yt2 events: 489, zh events: 161, bbxaa events: 101733\n"
     ]
    }
   ],
   "source": [
    "df_ybyt_test_neg = df_ybyt_test[df_ybyt_test['weight']==-1]\n",
    "df_array = [df_bbxaa_test, df_zh_test, df_yt2_test, df_ybyt_test_neg, df_yb2_test]\n",
    "weight_array = [weight_bbxaa*1.5, weight_zh*1.3, weight_yt2*2.5, (ybyt_ratio/(ybyt_ratio-1.))*weight_ybyt*1.9, weight_yb2*1.5]\n",
    "\n",
    "ps_exp_class_pos = collections.Counter(classifier.predict(pd.concat([df_array[4].iloc[:,:-2].sample(n=round(weight_array[4]), random_state=seed), \n",
    "                                                                     df_array[3].iloc[:,:-2].sample(n=round(weight_array[3]), random_state=seed), \n",
    "                                                                     df_array[2].iloc[:,:-2].sample(n=round(weight_array[2]), random_state=seed), \n",
    "                                                                     df_array[1].iloc[:,:-2].sample(n=round(weight_array[1]), random_state=seed),\n",
    "                                                                     df_array[0].iloc[:,:-2].sample(n=round(weight_array[0]), random_state=seed, replace=True)]).values))\n",
    "\n",
    "nevents_yb2, sig_yb2 = get_mclass(4, df_array, weight_array, ps_exp_class)\n",
    "nevents_ybyt, sig_ybyt = get_mclass(3, df_array, weight_array, ps_exp_class)\n",
    "nevents_yt2, sig_yt2 = get_mclass(2, df_array, weight_array, ps_exp_class)\n",
    "nevents_zh, sig_zh = get_mclass(1, df_array, weight_array, ps_exp_class)\n",
    "nevents_bbxaa, sig_bbxaa = get_mclass(0, df_array, weight_array, ps_exp_class)\n",
    "confusion_neg = np.column_stack((nevents_yb2, nevents_ybyt, nevents_yt2, nevents_zh, nevents_bbxaa))"
   ]
  },
  {
   "cell_type": "markdown",
   "metadata": {},
   "source": [
    "#### The Confusion Matrix, total events count for each channel and the signal significance"
   ]
  },
  {
   "cell_type": "code",
   "execution_count": 19,
   "metadata": {},
   "outputs": [
    {
     "name": "stdout",
     "output_type": "stream",
     "text": [
      "\\begin{tabular}{lrrrrrr}\n",
      "\\toprule\n",
      "{} &      $y_b^2$ &     $y_by_t$ &      $y_t^2$ &         $Zh$ &  $bb\\gamma\\gamma$ &     total \\\\\n",
      "\\midrule\n",
      "$y_b^2$          &   163.000000 &    54.000000 &    53.000000 &   121.000000 &        189.000000 &     580.0 \\\\\n",
      "$y_by_t$         &    -6.000000 &   -25.000000 &    -5.000000 &   -19.000000 &        -40.000000 &     -95.0 \\\\\n",
      "$y_t^2$          &   226.000000 &   112.000000 &   466.000000 &   542.000000 &        489.000000 &    1835.0 \\\\\n",
      "$Zh$             &    21.000000 &    28.000000 &    22.000000 &   412.000000 &        161.000000 &     644.0 \\\\\n",
      "$bb\\gamma\\gamma$ &  2143.000000 &  2392.000000 &  1454.000000 &  8044.000000 &     101752.000000 &  115785.0 \\\\\n",
      "$\\sigma$         &     3.229781 &     0.494009 &    10.446225 &     4.318934 &        317.740815 &       0.0 \\\\\n",
      "\\bottomrule\n",
      "\\end{tabular}\n",
      "\n"
     ]
    }
   ],
   "source": [
    "confusion_tot = np.round(np.array([confusion_pos[4]*0.5, confusion_pos[3], confusion_pos[2]*0.5, confusion_pos[1]*0.5, confusion_pos[0]*0.5])\n",
    "        +np.array([confusion_neg[4]*0.5, -confusion_neg[3], confusion_neg[2]*0.5, confusion_neg[1]*0.5, confusion_neg[0]*0.5])).astype(int)\n",
    "confusion_tot_tmp = confusion_tot\n",
    "event_total = np.array([[np.sum(confusion_tot[i])] for i in range(confusion_tot.shape[0])])\n",
    "significance = np.array([np.abs(confusion_tot[i,i])/np.sqrt(np.sum(confusion_tot[:,i])) for i in range(confusion_tot.shape[0])])\n",
    "significance = np.append(significance, 0)\n",
    "confusion_tab1 = np.append(confusion_tot_tmp, event_total, axis=1)\n",
    "confusion_tab2 = np.vstack((confusion_tab1, significance))\n",
    "    \n",
    "df_conf = pd.DataFrame(confusion_tab2, [r'$y_b^2$', r'$y_by_t$', r'$y_t^2$', r'$Zh$', r'$bb\\gamma\\gamma$', r'$\\sigma$'])\n",
    "df_conf.columns = [r'$y_b^2$', r'$y_by_t$', r'$y_t^2$', r'$Zh$', r'$bb\\gamma\\gamma$', 'total']\n",
    "print(df_conf.to_latex(escape=False))"
   ]
  },
  {
   "cell_type": "markdown",
   "metadata": {},
   "source": [
    "## 100 TeV Analysis\n",
    "\n",
    "- Load the datasets\n",
    "- Add the five datasets\n",
    "- Run the BDT and make the SHAP plot\n",
    "- Check the accuracy of the classifier\n",
    "- make the discriminator plot\n",
    "- Build the confusions matrix by doing the following\n",
    "    - build the confusion matrix for the positive and negative weights of ybyt separately\n",
    "    - combine the two to get the confusion matrix"
   ]
  },
  {
   "cell_type": "code",
   "execution_count": 20,
   "metadata": {
    "pycharm": {
     "is_executing": false,
     "name": "#%%\n"
    }
   },
   "outputs": [
    {
     "name": "stdout",
     "output_type": "stream",
     "text": [
      "No. of yb2 events: train = 20000, test = 144098\n",
      "No. of ybyt events: train = 20000, test = 58586\n",
      "No. of yt2 events: train = 20000, test = 274102\n",
      "No. of zh events: train = 20000, test = 43525\n",
      "No. of bbxaa events: train = 100000, test = 181650\n"
     ]
    }
   ],
   "source": [
    "dlist = ['dphibb', 'etaaa', 'ptb2', 'drbamin', 'met', 'etaa2', 'etab1', 'etaa1', 'nbjet', 'etab2']\n",
    "\n",
    "# 100 TeV \n",
    "df_yb2_1, df_yb2_test_1, weight_yb2_1 = fileparser(\"../simulations/FCC-hh/yb2_1.csv\", dlist, sample=10000, L=10)\n",
    "df_yb2_2, df_yb2_test_2, weight_yb2_2 = fileparser(\"../simulations/FCC-hh/yb2_2.csv\", dlist, sample=10000, L=10)\n",
    "df_yb2 = pd.concat([df_yb2_1, df_yb2_2])\n",
    "df_yb2_test = pd.concat([df_yb2_test_1, df_yb2_test_2])\n",
    "weight_yb2 = int(np.max([weight_yb2_1, weight_yb2_2]))\n",
    "\n",
    "df_ybyt_1, df_ybyt_test_1, weight_ybyt_1 = fileparser(\"../simulations/FCC-hh/ybyt_1.csv\", dlist, sample=10000, L=10)\n",
    "df_ybyt_2, df_ybyt_test_2, weight_ybyt_2 = fileparser(\"../simulations/FCC-hh/ybyt_2.csv\", dlist, sample=10000, L=10)\n",
    "df_ybyt = pd.concat([df_ybyt_1, df_ybyt_2])\n",
    "df_ybyt_test = pd.concat([df_ybyt_test_1, df_ybyt_test_2])\n",
    "weight_ybyt = int(np.max([weight_ybyt_1, weight_ybyt_2]))\n",
    "\n",
    "df_yt2_1, df_yt2_test_1, weight_yt2_1 = fileparser(\"../simulations/FCC-hh/yt2_1.csv\", dlist, sample=10000, L=10)\n",
    "df_yt2_2, df_yt2_test_2, weight_yt2_2 = fileparser(\"../simulations/FCC-hh/yt2_2.csv\", dlist, sample=10000, L=10)\n",
    "df_yt2 = pd.concat([df_yt2_1, df_yt2_2])\n",
    "df_yt2_test = pd.concat([df_yt2_test_1, df_yt2_test_2])\n",
    "weight_yt2 = int(np.max([weight_yt2_1, weight_yt2_2]))\n",
    "\n",
    "df_zh, df_zh_test, weight_zh = fileparser(\"../simulations/FCC-hh/zh.csv\", dlist, sample=20000, L=10)\n",
    "\n",
    "df_bbxaa_1, df_bbxaa_test_1, weight_bbxaa_1 = fileparser(\"../simulations/FCC-hh/bbxaa_1.csv\", dlist, sample=50000, L=10)\n",
    "df_bbxaa_2, df_bbxaa_test_2, weight_bbxaa_2 = fileparser(\"../simulations/FCC-hh/bbxaa_2.csv\", dlist, sample=50000, L=10)\n",
    "df_bbxaa = pd.concat([df_bbxaa_1, df_bbxaa_2])\n",
    "df_bbxaa_test = pd.concat([df_bbxaa_test_1, df_bbxaa_test_2])\n",
    "weight_bbxaa = int(np.max([weight_bbxaa_1, weight_bbxaa_2]))\n",
    "\n",
    "\n",
    "\n",
    "print(\"No. of yb2 events: train = {}, test = {}\".format(df_yb2.shape[0],df_yb2_test.shape[0]))\n",
    "print(\"No. of ybyt events: train = {}, test = {}\".format(df_ybyt.shape[0],df_ybyt_test.shape[0]))\n",
    "print(\"No. of yt2 events: train = {}, test = {}\".format(df_yt2.shape[0],df_yt2_test.shape[0]))\n",
    "print(\"No. of zh events: train = {}, test = {}\".format(df_zh.shape[0],df_zh_test.shape[0]))\n",
    "print(\"No. of bbxaa events: train = {}, test = {}\".format(df_bbxaa.shape[0],df_bbxaa_test.shape[0]))"
   ]
  },
  {
   "cell_type": "code",
   "execution_count": 21,
   "metadata": {},
   "outputs": [],
   "source": [
    "channels = [df_yb2, df_ybyt, df_yt2, df_zh, df_bbxaa]\n",
    "nchannels = len(channels)\n",
    "df_train = pd.concat(channels, ignore_index=True)\n",
    "df_train = df_train.sample(frac=1).reset_index(drop=True)\n",
    "\n",
    "# Special treatment for ybyt\n",
    "df_tmp_1 = pd.read_csv(\"../simulations/FCC-hh/ybyt_1.csv\")\n",
    "df_tmp_2 = pd.read_csv(\"../simulations/FCC-hh/ybyt_2.csv\")\n",
    "df_tmp = pd.concat([df_tmp_1, df_tmp_2])\n",
    "ybyt_ratio = df_tmp[df_tmp['weight']<0].shape[0]/df_tmp[df_tmp['weight']>0].shape[0]"
   ]
  },
  {
   "cell_type": "markdown",
   "metadata": {},
   "source": [
    "### Run this cell only if you want to rerun the classifier"
   ]
  },
  {
   "cell_type": "code",
   "execution_count": 22,
   "metadata": {
    "pycharm": {
     "is_executing": false,
     "name": "#%%\n"
    }
   },
   "outputs": [
    {
     "name": "stdout",
     "output_type": "stream",
     "text": [
      "Accuracy Score: 73.50% \n"
     ]
    },
    {
     "data": {
      "image/png": "[encoded data removed]",
      "text/plain": [
       "<Figure size 360x360 with 1 Axes>"
      ]
     },
     "metadata": {
      "needs_background": "light"
     },
     "output_type": "display_data"
    }
   ],
   "source": [
    "class_names = [r'$bb\\gamma\\gamma$', r'$Zh$', r'$y_t^2$', r'$y_by_t$', r'$y_b^2$']\n",
    "filename = 'models/FCC-BDT/hbb-BDT-multiclass-bg-1b-met-ht-btag.pickle.dat' ## The pickle model store if necessary.\n",
    "shap_plot = '../plots/shap-5-FCC.pdf'\n",
    "\n",
    "classifier, x_test, y_test, shap_values_100, X_shap_100 = runBDT(df_train, filename)\n",
    "abs_shap(shap_values_100, X_shap_100, shap_plot, names=names, class_names=class_names, cmp=cmp_5)"
   ]
  },
  {
   "cell_type": "markdown",
   "metadata": {},
   "source": [
    "#### Load the Classifier and run the analysis. The Accuracy is measured with eqisized samples"
   ]
  },
  {
   "cell_type": "code",
   "execution_count": 23,
   "metadata": {
    "pycharm": {
     "is_executing": false,
     "name": "#%%\n"
    }
   },
   "outputs": [
    {
     "name": "stdout",
     "output_type": "stream",
     "text": [
      "Accuracy Score: 58.97% \n"
     ]
    }
   ],
   "source": [
    "classifier = pickle.load(open('models/FCC-BDT/hbb-BDT-multiclass-bg-1b-met-ht-btag.pickle.dat', 'rb'))  ## If model is stored\n",
    "comb_test = pd.concat([df_yb2_test.iloc[:,:-1].sample(n=10000, random_state=seed), df_ybyt_test.iloc[:,:-1].sample(n=10000, random_state=seed),\n",
    "                       df_yt2_test.iloc[:,:-1].sample(n=10000, random_state=seed), df_zh_test.iloc[:,:-1].sample(n=10000, random_state=seed),\n",
    "                       df_bbxaa_test.iloc[:,:-1].sample(n=10000, random_state=seed)])\n",
    "print('Accuracy Score: {:4.2f}% '.format(100*metrics.accuracy_score(comb_test['class'].values, classifier.predict(comb_test.drop(columns=['class']).values))))"
   ]
  },
  {
   "cell_type": "markdown",
   "metadata": {},
   "source": [
    "#### Check the accuracy of each sample and display the classification plot"
   ]
  },
  {
   "cell_type": "code",
   "execution_count": 24,
   "metadata": {
    "pycharm": {
     "is_executing": false,
     "name": "#%%\n"
    }
   },
   "outputs": [
    {
     "name": "stdout",
     "output_type": "stream",
     "text": [
      "Accuracy Score for yb2: 43.63% \n",
      "Accuracy Score for ybyt: 60.47% \n",
      "Accuracy Score for yt2: 47.52% \n",
      "Accuracy Score for zh: 53.24% \n",
      "Accuracy Score for bbxaa: 91.13% \n"
     ]
    },
    {
     "data": {
      "image/png": "[encoded data removed]",
      "text/plain": [
       "<Figure size 432x288 with 1 Axes>"
      ]
     },
     "metadata": {
      "needs_background": "light"
     },
     "output_type": "display_data"
    }
   ],
   "source": [
    "disc = 4\n",
    "yb2_p = pd.DataFrame(classifier.predict_proba(df_yb2_test.drop(columns=['class', 'weight']).values)[:,disc])\n",
    "print('Accuracy Score for yb2: {:4.2f}% '.format(100*metrics.accuracy_score(df_yb2_test['class'].values, classifier.predict(df_yb2_test.drop(columns=['class', 'weight']).values))))\n",
    "yb2_p['weight'] = df_yb2_test['weight'].values\n",
    "\n",
    "ybyt_p = pd.DataFrame(classifier.predict_proba(df_ybyt_test.drop(columns=['class', 'weight']).values)[:,disc])\n",
    "print('Accuracy Score for ybyt: {:4.2f}% '.format(100*metrics.accuracy_score(df_ybyt_test['class'].values, classifier.predict(df_ybyt_test.drop(columns=['class', 'weight']).values))))\n",
    "ybyt_p['weight'] = df_ybyt_test['weight'].values\n",
    "\n",
    "yt2_p = pd.DataFrame(classifier.predict_proba(df_yt2_test.drop(columns=['class', 'weight']).values)[:,disc])\n",
    "print('Accuracy Score for yt2: {:4.2f}% '.format(100*metrics.accuracy_score(df_yt2_test['class'].values, classifier.predict(df_yt2_test.drop(columns=['class', 'weight']).values))))\n",
    "yt2_p['weight'] = df_yt2_test['weight'].values\n",
    "\n",
    "zh_p = pd.DataFrame(classifier.predict_proba(df_zh_test.drop(columns=['class', 'weight']).values)[:,disc])\n",
    "print('Accuracy Score for zh: {:4.2f}% '.format(100*metrics.accuracy_score(df_zh_test['class'].values, classifier.predict(df_zh_test.drop(columns=['class', 'weight']).values))))\n",
    "zh_p['weight'] = df_zh_test['weight'].values\n",
    "\n",
    "bbxaa_p = pd.DataFrame(classifier.predict_proba(df_bbxaa_test.drop(columns=['class', 'weight']).values)[:,disc])\n",
    "print('Accuracy Score for bbxaa: {:4.2f}% '.format(100*metrics.accuracy_score(df_bbxaa_test['class'].values, classifier.predict(df_bbxaa_test.drop(columns=['class', 'weight']).values))))\n",
    "bbxaa_p['weight'] = df_bbxaa_test['weight'].values\n",
    "\n",
    "yb2_pred = yb2_p.sample(n=round(weight_yb2*1.5), replace=True, random_state=seed).reset_index(drop=True)\n",
    "ybyt_pred = ybyt_p.sample(n=round(weight_ybyt*1.9), replace=True, random_state=seed).reset_index(drop=True)\n",
    "yt2_pred = yt2_p.sample(n=round(weight_yt2*2.5), replace=True, random_state=seed).reset_index(drop=True)\n",
    "zh_pred = zh_p.sample(n=round(weight_zh*1.3), replace=True, random_state=seed).reset_index(drop=True)\n",
    "bbxaa_pred = bbxaa_p.sample(n=round(weight_bbxaa*1.5), replace=True, random_state=seed).reset_index(drop=True)\n",
    "\n",
    "plt.figure(figsize=(6,4))\n",
    "sns.distplot(yb2_pred[0], kde=False, bins=np.arange(0, 1 + 0.04, 0.04), hist_kws={'alpha': 0.8, 'histtype': 'step', 'linewidth': 3}, label=r'$y_b^2$')\n",
    "sns.distplot(ybyt_pred[0], kde=False, bins=np.arange(0, 1 + 0.04, 0.04), hist_kws={'alpha': 0.8, 'histtype': 'step', 'linewidth': 3}, label=r'$y_by_t$')\n",
    "sns.distplot(yt2_pred[0], kde=False, bins=np.arange(0, 1 + 0.04, 0.04), hist_kws={'alpha': 0.8, 'histtype': 'step', 'linewidth': 3}, label=r'$y_t^2$')\n",
    "sns.distplot(zh_pred[0], kde=False, bins=np.arange(0, 1 + 0.04, 0.04), hist_kws={'alpha': 0.8, 'histtype': 'step', 'linewidth': 3}, label=r'$Zh$')\n",
    "sns.distplot(bbxaa_pred[0], kde=False, bins=np.arange(0, 1 + 0.04, 0.04), hist_kws={'alpha': 0.8, 'histtype': 'step', 'linewidth': 3}, label=r'$bb\\gamma\\gamma$')\n",
    "plt.legend()\n",
    "plt.grid(linestyle='dashed', alpha=0.4, color='#808080')\n",
    "plt.yscale('log')"
   ]
  },
  {
   "cell_type": "markdown",
   "metadata": {},
   "source": [
    "#### Since ybyt has both positive and negative weights the confusion matrix has to be created separately for each"
   ]
  },
  {
   "cell_type": "code",
   "execution_count": 25,
   "metadata": {},
   "outputs": [
    {
     "name": "stdout",
     "output_type": "stream",
     "text": [
      "sig: 63.88, yb2 events: 32184, ybyt events: 873, yt2 events: 49423, zh events: 1867, bbxaa events: 169511\n",
      "sig: 10.06, yb2 events: 15459, ybyt events: 6796, yt2 events: 46703, zh events: 4638, bbxaa events: 382485\n",
      "sig: 286.28, yb2 events: 10624, ybyt events: 888, yt2 events: 147124, zh events: 2208, bbxaa events: 103269\n",
      "sig: 29.63, yb2 events: 6442, ybyt events: 714, yt2 events: 39335, zh events: 12575, bbxaa events: 121077\n",
      "sig: 2813.49, yb2 events: 9070, ybyt events: 1962, yt2 events: 27007, zh events: 2331, bbxaa events: 7955906\n"
     ]
    }
   ],
   "source": [
    "df_array = [df_bbxaa_test, df_zh_test, df_yt2_test, df_ybyt_test, df_yb2_test]\n",
    "weight_array = [weight_bbxaa*1.5, weight_zh*1.3, weight_yt2*2.5, weight_ybyt*1.9, weight_yb2*1.5]\n",
    "\n",
    "ps_exp_class = collections.Counter(classifier.predict(pd.concat([df_array[4].iloc[:,:-2].sample(n=round(weight_array[4]), random_state=seed, replace=True), \n",
    "                                                                     df_array[3].iloc[:,:-2].sample(n=round(weight_array[3]), random_state=seed, replace=True), \n",
    "                                                                     df_array[2].iloc[:,:-2].sample(n=round(weight_array[2]), random_state=seed, replace=True), \n",
    "                                                                     df_array[1].iloc[:,:-2].sample(n=round(weight_array[1]), random_state=seed, replace=True),\n",
    "                                                                     df_array[0].iloc[:,:-2].sample(n=round(weight_array[0]), random_state=seed, replace=True)]).values))\n",
    "\n",
    "nevents_yb2, sig_yb2 = get_mclass(4, df_array, weight_array, ps_exp_class)\n",
    "nevents_ybyt, sig_ybyt = get_mclass(3, df_array, weight_array, ps_exp_class)\n",
    "nevents_yt2, sig_yt2 = get_mclass(2, df_array, weight_array, ps_exp_class)\n",
    "nevents_zh, sig_zh = get_mclass(1, df_array, weight_array, ps_exp_class)\n",
    "nevents_bbxaa, sig_bbxaa = get_mclass(0, df_array, weight_array, ps_exp_class)\n",
    "confusion = np.column_stack((nevents_yb2, nevents_ybyt, nevents_yt2, nevents_zh, nevents_bbxaa))"
   ]
  },
  {
   "cell_type": "code",
   "execution_count": 26,
   "metadata": {},
   "outputs": [
    {
     "name": "stdout",
     "output_type": "stream",
     "text": [
      "sig: 63.97, yb2 events: 32229, ybyt events: 520, yt2 events: 49492, zh events: 1869, bbxaa events: 169747\n",
      "sig: 6.35, yb2 events: 15545, ybyt events: 4290, yt2 events: 46964, zh events: 4664, bbxaa events: 384619\n",
      "sig: 286.62, yb2 events: 10637, ybyt events: 572, yt2 events: 147301, zh events: 2211, bbxaa events: 103393\n",
      "sig: 29.66, yb2 events: 6448, ybyt events: 533, yt2 events: 39375, zh events: 12588, bbxaa events: 121199\n",
      "sig: 2813.71, yb2 events: 9071, ybyt events: 1346, yt2 events: 27009, zh events: 2331, bbxaa events: 7956519\n"
     ]
    }
   ],
   "source": [
    "df_ybyt_test_pos = df_ybyt_test[df_ybyt_test['weight']==1]\n",
    "df_array = [df_bbxaa_test, df_zh_test, df_yt2_test, df_ybyt_test_pos, df_yb2_test]\n",
    "weight_array = [weight_bbxaa*1.5, weight_zh*1.3, weight_yt2*2.5, (1./(ybyt_ratio-1.))*weight_ybyt*1.9, weight_yb2*1.5]\n",
    "\n",
    "ps_exp_class_pos = collections.Counter(classifier.predict(pd.concat([df_array[4].iloc[:,:-2].sample(n=round(weight_array[4]), random_state=seed, replace=True), \n",
    "                                                                     df_array[3].iloc[:,:-2].sample(n=round(weight_array[3]), random_state=seed, replace=True), \n",
    "                                                                     df_array[2].iloc[:,:-2].sample(n=round(weight_array[2]), random_state=seed, replace=True), \n",
    "                                                                     df_array[1].iloc[:,:-2].sample(n=round(weight_array[1]), random_state=seed, replace=True),\n",
    "                                                                     df_array[0].iloc[:,:-2].sample(n=round(weight_array[0]), random_state=seed, replace=True)]).values))\n",
    "\n",
    "nevents_yb2, sig_yb2 = get_mclass(4, df_array, weight_array, ps_exp_class)\n",
    "nevents_ybyt, sig_ybyt = get_mclass(3, df_array, weight_array, ps_exp_class)\n",
    "nevents_yt2, sig_yt2 = get_mclass(2, df_array, weight_array, ps_exp_class)\n",
    "nevents_zh, sig_zh = get_mclass(1, df_array, weight_array, ps_exp_class)\n",
    "nevents_bbxaa, sig_bbxaa = get_mclass(0, df_array, weight_array, ps_exp_class)\n",
    "confusion_pos = np.column_stack((nevents_yb2, nevents_ybyt, nevents_yt2, nevents_zh, nevents_bbxaa))"
   ]
  },
  {
   "cell_type": "code",
   "execution_count": 27,
   "metadata": {},
   "outputs": [
    {
     "name": "stdout",
     "output_type": "stream",
     "text": [
      "sig: 63.73, yb2 events: 32108, ybyt events: 1475, yt2 events: 49306, zh events: 1862, bbxaa events: 169108\n",
      "sig: 16.55, yb2 events: 15308, ybyt events: 11175, yt2 events: 46248, zh events: 4593, bbxaa events: 378757\n",
      "sig: 285.66, yb2 events: 10601, ybyt events: 1458, yt2 events: 146806, zh events: 2203, bbxaa events: 103045\n",
      "sig: 29.57, yb2 events: 6428, ybyt events: 1099, yt2 events: 39251, zh events: 12548, bbxaa events: 120817\n",
      "sig: 2813.08, yb2 events: 9069, ybyt events: 3142, yt2 events: 27003, zh events: 2330, bbxaa events: 7954732\n"
     ]
    }
   ],
   "source": [
    "df_ybyt_test_neg = df_ybyt_test[df_ybyt_test['weight']==-1]\n",
    "df_array = [df_bbxaa_test, df_zh_test, df_yt2_test, df_ybyt_test_neg, df_yb2_test]\n",
    "weight_array = [weight_bbxaa*1.5, weight_zh*1.3, weight_yt2*2.5, (ybyt_ratio/(ybyt_ratio-1.))*weight_ybyt*1.9, weight_yb2*1.5]\n",
    "\n",
    "ps_exp_class_pos = collections.Counter(classifier.predict(pd.concat([df_array[4].iloc[:,:-2].sample(n=round(weight_array[4]), random_state=seed, replace=True), \n",
    "                                                                     df_array[3].iloc[:,:-2].sample(n=round(weight_array[3]), random_state=seed, replace=True), \n",
    "                                                                     df_array[2].iloc[:,:-2].sample(n=round(weight_array[2]), random_state=seed, replace=True), \n",
    "                                                                     df_array[1].iloc[:,:-2].sample(n=round(weight_array[1]), random_state=seed, replace=True),\n",
    "                                                                     df_array[0].iloc[:,:-2].sample(n=round(weight_array[0]), random_state=seed, replace=True)]).values))\n",
    "\n",
    "nevents_yb2, sig_yb2 = get_mclass(4, df_array, weight_array, ps_exp_class)\n",
    "nevents_ybyt, sig_ybyt = get_mclass(3, df_array, weight_array, ps_exp_class)\n",
    "nevents_yt2, sig_yt2 = get_mclass(2, df_array, weight_array, ps_exp_class)\n",
    "nevents_zh, sig_zh = get_mclass(1, df_array, weight_array, ps_exp_class)\n",
    "nevents_bbxaa, sig_bbxaa = get_mclass(0, df_array, weight_array, ps_exp_class)\n",
    "confusion_neg = np.column_stack((nevents_yb2, nevents_ybyt, nevents_yt2, nevents_zh, nevents_bbxaa))"
   ]
  },
  {
   "cell_type": "markdown",
   "metadata": {},
   "source": [
    "#### The Confusion Matrix, total events count for each channel and the signal significance"
   ]
  },
  {
   "cell_type": "code",
   "execution_count": 28,
   "metadata": {},
   "outputs": [
    {
     "name": "stdout",
     "output_type": "stream",
     "text": [
      "\\begin{tabular}{lrrrrrr}\n",
      "\\toprule\n",
      "{} &        $y_b^2$ &       $y_by_t$ &        $y_t^2$ &           $Zh$ &  $bb\\gamma\\gamma$ &      total \\\\\n",
      "\\midrule\n",
      "$y_b^2$          &   32168.000000 &   15426.000000 &   10619.000000 &    6438.000000 &      9.070000e+03 &    73721.0 \\\\\n",
      "$y_by_t$         &    -955.000000 &   -6885.000000 &    -886.000000 &    -566.000000 &     -1.796000e+03 &   -11088.0 \\\\\n",
      "$y_t^2$          &   49399.000000 &   46606.000000 &  147054.000000 &   39313.000000 &      2.700600e+04 &   309378.0 \\\\\n",
      "$Zh$             &    1866.000000 &    4628.000000 &    2207.000000 &   12568.000000 &      2.330000e+03 &    23599.0 \\\\\n",
      "$bb\\gamma\\gamma$ &  169428.000000 &  381688.000000 &  103219.000000 &  121008.000000 &      7.955626e+06 &  8730969.0 \\\\\n",
      "$\\sigma$         &      64.092145 &      10.362315 &     287.177052 &      29.725542 &      2.814104e+03 &        0.0 \\\\\n",
      "\\bottomrule\n",
      "\\end{tabular}\n",
      "\n"
     ]
    }
   ],
   "source": [
    "confusion_tot = np.round(np.array([confusion_pos[4]*0.5, confusion_pos[3], confusion_pos[2]*0.5, confusion_pos[1]*0.5, confusion_pos[0]*0.5])\n",
    "        +np.array([confusion_neg[4]*0.5, -confusion_neg[3], confusion_neg[2]*0.5, confusion_neg[1]*0.5, confusion_neg[0]*0.5])).astype(int)\n",
    "confusion_tot_tmp = confusion_tot\n",
    "event_total = np.array([[np.sum(confusion_tot[i])] for i in range(confusion_tot.shape[0])])\n",
    "significance = np.array([np.abs(confusion_tot[i,i])/np.sqrt(np.sum(confusion_tot[:,i])) for i in range(confusion_tot.shape[0])])\n",
    "significance = np.append(significance, 0)\n",
    "confusion_tab1 = np.append(confusion_tot_tmp, event_total, axis=1)\n",
    "confusion_tab2 = np.vstack((confusion_tab1, significance))\n",
    "    \n",
    "df_conf = pd.DataFrame(confusion_tab2, [r'$y_b^2$', r'$y_by_t$', r'$y_t^2$', r'$Zh$', r'$bb\\gamma\\gamma$', r'$\\sigma$'])\n",
    "df_conf.columns = [r'$y_b^2$', r'$y_by_t$', r'$y_t^2$', r'$Zh$', r'$bb\\gamma\\gamma$', 'total']\n",
    "print(df_conf.to_latex(escape=False))"
   ]
  }
 ],
 "metadata": {
  "kernelspec": {
   "display_name": "PyCharm (Tutorials)",
   "language": "python",
   "name": "pycharm-38c7cf03"
  },
  "language_info": {
   "codemirror_mode": {
    "name": "ipython",
    "version": 3
   },
   "file_extension": ".py",
   "mimetype": "text/x-python",
   "name": "python",
   "nbconvert_exporter": "python",
   "pygments_lexer": "ipython3",
   "version": "3.6.8"
  }
 },
 "nbformat": 4,
 "nbformat_minor": 4
}
