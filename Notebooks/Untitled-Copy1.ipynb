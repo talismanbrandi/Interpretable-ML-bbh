{
 "cells": [
  {
   "cell_type": "code",
   "execution_count": 20,
   "metadata": {},
   "outputs": [],
   "source": [
    "import numpy as np\n",
    "import pandas as pd\n",
    "import xgboost as xgb\n",
    "import sklearn.model_selection as ms\n",
    "from sklearn import metrics\n",
    "import matplotlib.pyplot as plt\n",
    "import shap\n",
    "\n",
    "from matplotlib import rc\n",
    "\n",
    "rc('text', usetex=True)\n",
    "\n",
    "\n",
    "import os\n",
    "from matplotlib.colors import LinearSegmentedColormap\n",
    "from colour import Color\n",
    "\n",
    "N_THREADS = 25\n",
    "os.environ['OMP_NUM_THREADS'] = str(N_THREADS)\n",
    "\n",
    "colors = ['#3f7f93','#da3b46']\n",
    "cmp_2 = LinearSegmentedColormap.from_list('my_list', [Color(c1).rgb for c1 in colors], N=len(colors))\n",
    "\n",
    "SEED = 42"
   ]
  },
  {
   "cell_type": "code",
   "execution_count": 21,
   "metadata": {},
   "outputs": [],
   "source": [
    "dlist = ['dphibb', 'etaaa', 'ptb2', 'drbamin', 'met', 'etaa2', 'etab1', 'etaa1', 'nbjet', 'etab2', 'weight']\n",
    "df_zh = pd.read_csv('../simulations/HL-LHC/zh.csv').drop(columns=dlist)\n",
    "df_yb2 = pd.read_csv('../simulations/HL-LHC/yb2.csv').drop(columns=dlist)\n",
    "df_zh['class'] = 0\n",
    "df_yb2['class'] = 1"
   ]
  },
  {
   "cell_type": "code",
   "execution_count": 22,
   "metadata": {},
   "outputs": [],
   "source": [
    "df_zh_train = df_zh.sample(n=20000)\n",
    "df_yb2_train = df_yb2.sample(n=20000)\n",
    "\n",
    "df_train = pd.concat([df_zh_train, df_yb2_train]).sample(frac=1)"
   ]
  },
  {
   "cell_type": "code",
   "execution_count": 23,
   "metadata": {},
   "outputs": [],
   "source": [
    "X = df_train.drop(columns=['class'])\n",
    "Y = df_train['class']\n",
    "\n",
    "\n",
    "x_train, x_test, y_train, y_test = ms.train_test_split(X.values, Y.values, test_size=0.2, random_state=SEED)\n",
    "eval_set = [(x_train, y_train), (x_test, y_test)]\n",
    "\n",
    "classifier = xgb.XGBClassifier(max_depth=10, objective='multi:softprob', num_class=2, nthread=N_THREADS, n_estimators=5000, random_state=SEED)\n",
    "\n",
    "classifier = classifier.fit(x_train, y_train, early_stopping_rounds=50, eval_set=eval_set, eval_metric=[\"merror\", \"mlogloss\"], verbose=False)"
   ]
  },
  {
   "cell_type": "code",
   "execution_count": 24,
   "metadata": {},
   "outputs": [
    {
     "name": "stdout",
     "output_type": "stream",
     "text": [
      "Accuracy Score: 75.41%\n"
     ]
    }
   ],
   "source": [
    "y_pred = classifier.predict(x_test)\n",
    "print(\"Accuracy Score: {:2.2f}%\".format(100*metrics.accuracy_score(y_test, y_pred)))"
   ]
  },
  {
   "cell_type": "code",
   "execution_count": 25,
   "metadata": {},
   "outputs": [],
   "source": [
    "class_names = [r'$Zh$', r'$y_b^2$']\n",
    "names = [r'$n_{jet}$', r'$p_T^{b_1}$', r'$p_T^{\\gamma_1}$', r'$p_T^{\\gamma_2}$', r'$p_T^{\\gamma\\gamma}$', r'$m_{bb}$', r'$m_{\\gamma\\gamma}$', r'$m_{b_1h}$', r'$m_{bbh}$',\n",
    "           r'$H_T$', r'$\\delta R_{b\\gamma_1}$', r'$\\delta\\phi_{b\\gamma_1}$']\n",
    "\n",
    "X_shap = pd.DataFrame(x_test, columns=df_train.drop(columns=['class']).columns)\n",
    "explainer = shap.TreeExplainer(classifier)\n",
    "shap_values = explainer.shap_values(X_shap)"
   ]
  },
  {
   "cell_type": "code",
   "execution_count": 27,
   "metadata": {},
   "outputs": [
    {
     "data": {
      "text/plain": [
       "array([[3059,  931],\n",
       "       [1036, 2974]])"
      ]
     },
     "execution_count": 27,
     "metadata": {},
     "output_type": "execute_result"
    }
   ],
   "source": [
    "metrics.cohen_kappa_score(y_test, y_pred)\n",
    "metrics.confusion_matrix(y_test, y_pred)"
   ]
  },
  {
   "cell_type": "code",
   "execution_count": 19,
   "metadata": {},
   "outputs": [
    {
     "data": {
      "image/png": "[encoded data removed]",
      "text/plain": [
       "<Figure size 720x720 with 1 Axes>"
      ]
     },
     "metadata": {
      "needs_background": "light"
     },
     "output_type": "display_data"
    }
   ],
   "source": [
    "shap.summary_plot(shap_values, X_shap, color=cmp_2, class_names=class_names, class_inds='original', plot_size=(10,10), show=False, feature_names=names)\n",
    "plt.legend(fontsize=25)\n",
    "ax = plt.gca()\n",
    "ax.tick_params(axis='both', which='major', labelsize=25)\n",
    "plt.show()"
   ]
  },
  {
   "cell_type": "code",
   "execution_count": null,
   "metadata": {},
   "outputs": [],
   "source": []
  }
 ],
 "metadata": {
  "kernelspec": {
   "display_name": "Python 3",
   "language": "python",
   "name": "python3"
  },
  "language_info": {
   "codemirror_mode": {
    "name": "ipython",
    "version": 3
   },
   "file_extension": ".py",
   "mimetype": "text/x-python",
   "name": "python",
   "nbconvert_exporter": "python",
   "pygments_lexer": "ipython3",
   "version": "3.6.7"
  }
 },
 "nbformat": 4,
 "nbformat_minor": 4
}
