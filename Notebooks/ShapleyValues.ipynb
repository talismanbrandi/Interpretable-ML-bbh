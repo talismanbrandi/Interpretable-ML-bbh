{
 "cells": [
  {
   "cell_type": "code",
   "execution_count": 15,
   "metadata": {},
   "outputs": [],
   "source": [
    "import pandas as pd\n",
    "import numpy as np\n",
    "import matplotlib.pyplot as plt\n",
    "from matplotlib import rc\n",
    "\n",
    "rc('text', usetex=True)"
   ]
  },
  {
   "cell_type": "code",
   "execution_count": 3,
   "metadata": {},
   "outputs": [],
   "source": [
    "df_shap = pd.read_csv('models/HL-LHC-BDT/shapley_values-zh-yb2-channel.txt', sep='\\t')"
   ]
  },
  {
   "cell_type": "code",
   "execution_count": 24,
   "metadata": {},
   "outputs": [
    {
     "data": {
      "text/html": [
       "<div>\n",
       "<style scoped>\n",
       "    .dataframe tbody tr th:only-of-type {\n",
       "        vertical-align: middle;\n",
       "    }\n",
       "\n",
       "    .dataframe tbody tr th {\n",
       "        vertical-align: top;\n",
       "    }\n",
       "\n",
       "    .dataframe thead th {\n",
       "        text-align: right;\n",
       "    }\n",
       "</style>\n",
       "<table border=\"1\" class=\"dataframe\">\n",
       "  <thead>\n",
       "    <tr style=\"text-align: right;\">\n",
       "      <th></th>\n",
       "      <th>Unnamed: 0</th>\n",
       "      <th>njjet</th>\n",
       "      <th>ptb1</th>\n",
       "      <th>pta1</th>\n",
       "      <th>pta2</th>\n",
       "      <th>ptaa</th>\n",
       "      <th>mbb</th>\n",
       "      <th>maa</th>\n",
       "      <th>mb1h</th>\n",
       "      <th>mbbh</th>\n",
       "      <th>...</th>\n",
       "      <th>S_pta2_4</th>\n",
       "      <th>S_ptaa_4</th>\n",
       "      <th>S_mbb_4</th>\n",
       "      <th>S_maa_4</th>\n",
       "      <th>S_mb1h_4</th>\n",
       "      <th>S_mbbh_4</th>\n",
       "      <th>S_ht_4</th>\n",
       "      <th>S_drba1_4</th>\n",
       "      <th>S_dphiba1_4</th>\n",
       "      <th>class</th>\n",
       "    </tr>\n",
       "  </thead>\n",
       "  <tbody>\n",
       "    <tr>\n",
       "      <th>0</th>\n",
       "      <td>0</td>\n",
       "      <td>0.0</td>\n",
       "      <td>53.0875</td>\n",
       "      <td>101.4710</td>\n",
       "      <td>23.2319</td>\n",
       "      <td>78.2469</td>\n",
       "      <td>5.69206</td>\n",
       "      <td>120.777</td>\n",
       "      <td>196.196</td>\n",
       "      <td>196.196</td>\n",
       "      <td>...</td>\n",
       "      <td>0.111413</td>\n",
       "      <td>0.056780</td>\n",
       "      <td>0.029855</td>\n",
       "      <td>-0.025718</td>\n",
       "      <td>-0.195826</td>\n",
       "      <td>-0.019164</td>\n",
       "      <td>-0.270546</td>\n",
       "      <td>0.035966</td>\n",
       "      <td>-0.045775</td>\n",
       "      <td>1</td>\n",
       "    </tr>\n",
       "    <tr>\n",
       "      <th>1</th>\n",
       "      <td>1</td>\n",
       "      <td>1.0</td>\n",
       "      <td>108.7530</td>\n",
       "      <td>79.9370</td>\n",
       "      <td>65.3744</td>\n",
       "      <td>114.0530</td>\n",
       "      <td>17.63020</td>\n",
       "      <td>125.546</td>\n",
       "      <td>322.945</td>\n",
       "      <td>322.945</td>\n",
       "      <td>...</td>\n",
       "      <td>-0.059173</td>\n",
       "      <td>-0.123737</td>\n",
       "      <td>0.053444</td>\n",
       "      <td>-0.016147</td>\n",
       "      <td>0.344440</td>\n",
       "      <td>0.051622</td>\n",
       "      <td>0.364416</td>\n",
       "      <td>0.328196</td>\n",
       "      <td>-0.119876</td>\n",
       "      <td>4</td>\n",
       "    </tr>\n",
       "    <tr>\n",
       "      <th>2</th>\n",
       "      <td>2</td>\n",
       "      <td>2.0</td>\n",
       "      <td>59.8604</td>\n",
       "      <td>104.4330</td>\n",
       "      <td>33.9398</td>\n",
       "      <td>70.8300</td>\n",
       "      <td>6.93450</td>\n",
       "      <td>118.870</td>\n",
       "      <td>203.018</td>\n",
       "      <td>203.018</td>\n",
       "      <td>...</td>\n",
       "      <td>0.022888</td>\n",
       "      <td>0.121885</td>\n",
       "      <td>0.016587</td>\n",
       "      <td>0.063264</td>\n",
       "      <td>-0.137917</td>\n",
       "      <td>-0.039513</td>\n",
       "      <td>0.254253</td>\n",
       "      <td>0.007237</td>\n",
       "      <td>-0.047004</td>\n",
       "      <td>1</td>\n",
       "    </tr>\n",
       "    <tr>\n",
       "      <th>3</th>\n",
       "      <td>3</td>\n",
       "      <td>0.0</td>\n",
       "      <td>64.1093</td>\n",
       "      <td>80.3534</td>\n",
       "      <td>53.3475</td>\n",
       "      <td>27.2393</td>\n",
       "      <td>10.26960</td>\n",
       "      <td>130.979</td>\n",
       "      <td>188.212</td>\n",
       "      <td>188.212</td>\n",
       "      <td>...</td>\n",
       "      <td>-0.016599</td>\n",
       "      <td>0.437822</td>\n",
       "      <td>0.027209</td>\n",
       "      <td>-0.013429</td>\n",
       "      <td>-0.253169</td>\n",
       "      <td>-0.021203</td>\n",
       "      <td>0.228742</td>\n",
       "      <td>-0.104154</td>\n",
       "      <td>0.084739</td>\n",
       "      <td>1</td>\n",
       "    </tr>\n",
       "    <tr>\n",
       "      <th>4</th>\n",
       "      <td>4</td>\n",
       "      <td>0.0</td>\n",
       "      <td>30.3711</td>\n",
       "      <td>58.2027</td>\n",
       "      <td>35.9209</td>\n",
       "      <td>48.0775</td>\n",
       "      <td>3.53102</td>\n",
       "      <td>126.652</td>\n",
       "      <td>313.577</td>\n",
       "      <td>313.577</td>\n",
       "      <td>...</td>\n",
       "      <td>0.057868</td>\n",
       "      <td>0.486264</td>\n",
       "      <td>0.102610</td>\n",
       "      <td>0.004246</td>\n",
       "      <td>0.854291</td>\n",
       "      <td>0.014426</td>\n",
       "      <td>-0.202106</td>\n",
       "      <td>0.277711</td>\n",
       "      <td>0.038060</td>\n",
       "      <td>4</td>\n",
       "    </tr>\n",
       "    <tr>\n",
       "      <th>...</th>\n",
       "      <td>...</td>\n",
       "      <td>...</td>\n",
       "      <td>...</td>\n",
       "      <td>...</td>\n",
       "      <td>...</td>\n",
       "      <td>...</td>\n",
       "      <td>...</td>\n",
       "      <td>...</td>\n",
       "      <td>...</td>\n",
       "      <td>...</td>\n",
       "      <td>...</td>\n",
       "      <td>...</td>\n",
       "      <td>...</td>\n",
       "      <td>...</td>\n",
       "      <td>...</td>\n",
       "      <td>...</td>\n",
       "      <td>...</td>\n",
       "      <td>...</td>\n",
       "      <td>...</td>\n",
       "      <td>...</td>\n",
       "      <td>...</td>\n",
       "    </tr>\n",
       "    <tr>\n",
       "      <th>11995</th>\n",
       "      <td>11995</td>\n",
       "      <td>0.0</td>\n",
       "      <td>66.0773</td>\n",
       "      <td>83.3752</td>\n",
       "      <td>49.8704</td>\n",
       "      <td>61.3103</td>\n",
       "      <td>6.82133</td>\n",
       "      <td>125.437</td>\n",
       "      <td>215.536</td>\n",
       "      <td>215.536</td>\n",
       "      <td>...</td>\n",
       "      <td>-0.051272</td>\n",
       "      <td>0.199617</td>\n",
       "      <td>0.048313</td>\n",
       "      <td>-0.001514</td>\n",
       "      <td>0.017056</td>\n",
       "      <td>-0.027220</td>\n",
       "      <td>-0.313001</td>\n",
       "      <td>0.000613</td>\n",
       "      <td>0.004626</td>\n",
       "      <td>1</td>\n",
       "    </tr>\n",
       "    <tr>\n",
       "      <th>11996</th>\n",
       "      <td>11996</td>\n",
       "      <td>1.0</td>\n",
       "      <td>46.3750</td>\n",
       "      <td>69.8608</td>\n",
       "      <td>43.2893</td>\n",
       "      <td>96.6055</td>\n",
       "      <td>5.44940</td>\n",
       "      <td>118.487</td>\n",
       "      <td>280.127</td>\n",
       "      <td>280.127</td>\n",
       "      <td>...</td>\n",
       "      <td>0.021634</td>\n",
       "      <td>-0.209916</td>\n",
       "      <td>0.086281</td>\n",
       "      <td>0.054162</td>\n",
       "      <td>0.398560</td>\n",
       "      <td>0.064608</td>\n",
       "      <td>-0.261937</td>\n",
       "      <td>0.009318</td>\n",
       "      <td>-0.014607</td>\n",
       "      <td>1</td>\n",
       "    </tr>\n",
       "    <tr>\n",
       "      <th>11997</th>\n",
       "      <td>11997</td>\n",
       "      <td>0.0</td>\n",
       "      <td>117.5100</td>\n",
       "      <td>147.2310</td>\n",
       "      <td>86.9642</td>\n",
       "      <td>202.2300</td>\n",
       "      <td>90.52250</td>\n",
       "      <td>122.210</td>\n",
       "      <td>352.379</td>\n",
       "      <td>419.305</td>\n",
       "      <td>...</td>\n",
       "      <td>-0.082010</td>\n",
       "      <td>-1.089426</td>\n",
       "      <td>-0.737231</td>\n",
       "      <td>-0.033374</td>\n",
       "      <td>0.307592</td>\n",
       "      <td>0.033770</td>\n",
       "      <td>0.178710</td>\n",
       "      <td>-0.071131</td>\n",
       "      <td>0.033955</td>\n",
       "      <td>1</td>\n",
       "    </tr>\n",
       "    <tr>\n",
       "      <th>11998</th>\n",
       "      <td>11998</td>\n",
       "      <td>2.0</td>\n",
       "      <td>99.5804</td>\n",
       "      <td>68.3585</td>\n",
       "      <td>65.8321</td>\n",
       "      <td>44.2415</td>\n",
       "      <td>5.11221</td>\n",
       "      <td>127.680</td>\n",
       "      <td>232.778</td>\n",
       "      <td>232.778</td>\n",
       "      <td>...</td>\n",
       "      <td>-0.094404</td>\n",
       "      <td>0.259733</td>\n",
       "      <td>0.046396</td>\n",
       "      <td>-0.073771</td>\n",
       "      <td>0.040750</td>\n",
       "      <td>-0.044663</td>\n",
       "      <td>0.123509</td>\n",
       "      <td>-0.212387</td>\n",
       "      <td>0.159385</td>\n",
       "      <td>4</td>\n",
       "    </tr>\n",
       "    <tr>\n",
       "      <th>11999</th>\n",
       "      <td>11999</td>\n",
       "      <td>0.0</td>\n",
       "      <td>68.0977</td>\n",
       "      <td>94.5529</td>\n",
       "      <td>39.1592</td>\n",
       "      <td>92.9844</td>\n",
       "      <td>10.00990</td>\n",
       "      <td>127.548</td>\n",
       "      <td>226.288</td>\n",
       "      <td>226.288</td>\n",
       "      <td>...</td>\n",
       "      <td>0.024564</td>\n",
       "      <td>-0.172272</td>\n",
       "      <td>0.056885</td>\n",
       "      <td>-0.012979</td>\n",
       "      <td>-0.016686</td>\n",
       "      <td>-0.050807</td>\n",
       "      <td>-0.148687</td>\n",
       "      <td>-0.068226</td>\n",
       "      <td>0.001944</td>\n",
       "      <td>4</td>\n",
       "    </tr>\n",
       "  </tbody>\n",
       "</table>\n",
       "<p>12000 rows × 38 columns</p>\n",
       "</div>"
      ],
      "text/plain": [
       "       Unnamed: 0  njjet      ptb1      pta1     pta2      ptaa       mbb  \\\n",
       "0               0    0.0   53.0875  101.4710  23.2319   78.2469   5.69206   \n",
       "1               1    1.0  108.7530   79.9370  65.3744  114.0530  17.63020   \n",
       "2               2    2.0   59.8604  104.4330  33.9398   70.8300   6.93450   \n",
       "3               3    0.0   64.1093   80.3534  53.3475   27.2393  10.26960   \n",
       "4               4    0.0   30.3711   58.2027  35.9209   48.0775   3.53102   \n",
       "...           ...    ...       ...       ...      ...       ...       ...   \n",
       "11995       11995    0.0   66.0773   83.3752  49.8704   61.3103   6.82133   \n",
       "11996       11996    1.0   46.3750   69.8608  43.2893   96.6055   5.44940   \n",
       "11997       11997    0.0  117.5100  147.2310  86.9642  202.2300  90.52250   \n",
       "11998       11998    2.0   99.5804   68.3585  65.8321   44.2415   5.11221   \n",
       "11999       11999    0.0   68.0977   94.5529  39.1592   92.9844  10.00990   \n",
       "\n",
       "           maa     mb1h     mbbh  ...  S_pta2_4  S_ptaa_4   S_mbb_4   S_maa_4  \\\n",
       "0      120.777  196.196  196.196  ...  0.111413  0.056780  0.029855 -0.025718   \n",
       "1      125.546  322.945  322.945  ... -0.059173 -0.123737  0.053444 -0.016147   \n",
       "2      118.870  203.018  203.018  ...  0.022888  0.121885  0.016587  0.063264   \n",
       "3      130.979  188.212  188.212  ... -0.016599  0.437822  0.027209 -0.013429   \n",
       "4      126.652  313.577  313.577  ...  0.057868  0.486264  0.102610  0.004246   \n",
       "...        ...      ...      ...  ...       ...       ...       ...       ...   \n",
       "11995  125.437  215.536  215.536  ... -0.051272  0.199617  0.048313 -0.001514   \n",
       "11996  118.487  280.127  280.127  ...  0.021634 -0.209916  0.086281  0.054162   \n",
       "11997  122.210  352.379  419.305  ... -0.082010 -1.089426 -0.737231 -0.033374   \n",
       "11998  127.680  232.778  232.778  ... -0.094404  0.259733  0.046396 -0.073771   \n",
       "11999  127.548  226.288  226.288  ...  0.024564 -0.172272  0.056885 -0.012979   \n",
       "\n",
       "       S_mb1h_4  S_mbbh_4    S_ht_4  S_drba1_4  S_dphiba1_4  class  \n",
       "0     -0.195826 -0.019164 -0.270546   0.035966    -0.045775      1  \n",
       "1      0.344440  0.051622  0.364416   0.328196    -0.119876      4  \n",
       "2     -0.137917 -0.039513  0.254253   0.007237    -0.047004      1  \n",
       "3     -0.253169 -0.021203  0.228742  -0.104154     0.084739      1  \n",
       "4      0.854291  0.014426 -0.202106   0.277711     0.038060      4  \n",
       "...         ...       ...       ...        ...          ...    ...  \n",
       "11995  0.017056 -0.027220 -0.313001   0.000613     0.004626      1  \n",
       "11996  0.398560  0.064608 -0.261937   0.009318    -0.014607      1  \n",
       "11997  0.307592  0.033770  0.178710  -0.071131     0.033955      1  \n",
       "11998  0.040750 -0.044663  0.123509  -0.212387     0.159385      4  \n",
       "11999 -0.016686 -0.050807 -0.148687  -0.068226     0.001944      4  \n",
       "\n",
       "[12000 rows x 38 columns]"
      ]
     },
     "execution_count": 24,
     "metadata": {},
     "output_type": "execute_result"
    }
   ],
   "source": [
    "df_shap"
   ]
  },
  {
   "cell_type": "code",
   "execution_count": 30,
   "metadata": {},
   "outputs": [
    {
     "data": {
      "image/png": "[encoded data removed]",
      "text/plain": [
       "<Figure size 432x288 with 1 Axes>"
      ]
     },
     "metadata": {
      "needs_background": "light"
     },
     "output_type": "display_data"
    }
   ],
   "source": [
    "plt.scatter(df_shap[df_shap['class']==1].ptaa, df_shap[df_shap['class']==1].S_ptaa_4, label=r\"$y_b^2$\")\n",
    "plt.scatter(df_shap[df_shap['class']==4].ptaa, df_shap[df_shap['class']==4].S_ptaa_4, label=r\"$Zh$\")\n",
    "plt.xlabel(r\"$p_T^{\\gamma\\gamma}$\", fontsize=14)\n",
    "plt.ylabel(r\"$S_v(p_T^{\\gamma\\gamma})$\", fontsize=14)\n",
    "plt.grid(':', alpha=0.5)\n",
    "plt.legend(fontsize=14)\n",
    "plt.show()"
   ]
  },
  {
   "cell_type": "code",
   "execution_count": 20,
   "metadata": {},
   "outputs": [
    {
     "data": {
      "image/png": "[encoded data removed]",
      "text/plain": [
       "<Figure size 432x288 with 1 Axes>"
      ]
     },
     "metadata": {
      "needs_background": "light"
     },
     "output_type": "display_data"
    }
   ],
   "source": [
    "plt.scatter(df_shap.mb1h, df_shap.S_mb1h_1, label=r\"$Zh$\")\n",
    "plt.scatter(df_shap.mb1h, df_shap.S_mb1h_4, label=r\"$y_b^2$\")\n",
    "plt.xlabel(r\"$p_T^{\\gamma\\gamma}$\", fontsize=14)\n",
    "plt.ylabel(r\"$S_v(p_T^{\\gamma\\gamma})$\", fontsize=14)\n",
    "plt.grid(':', alpha=0.5)\n",
    "plt.legend(fontsize=14)\n",
    "plt.show()"
   ]
  },
  {
   "cell_type": "code",
   "execution_count": 39,
   "metadata": {},
   "outputs": [],
   "source": [
    "df_tmp = df_shap[['S_ptaa_4', 'S_ptaa_1']]"
   ]
  },
  {
   "cell_type": "code",
   "execution_count": 82,
   "metadata": {},
   "outputs": [
    {
     "name": "stdout",
     "output_type": "stream",
     "text": [
      "S_njjet   : yb2: 0.046118 || Zh = 0.040816 || diff: 12.20%\n",
      "S_ptb1    : yb2: 0.227554 || Zh = 0.225522 || diff: 0.90%\n",
      "S_pta1    : yb2: 0.100003 || Zh = 0.097992 || diff: 2.03%\n",
      "S_pta2    : yb2: 0.054822 || Zh = 0.054054 || diff: 1.41%\n",
      "S_ptaa    : yb2: 0.449009 || Zh = 0.451993 || diff: 0.66%\n",
      "S_mbb     : yb2: 0.200910 || Zh = 0.203150 || diff: 1.11%\n",
      "S_maa     : yb2: 0.023385 || Zh = 0.023891 || diff: 2.14%\n",
      "S_mb1h    : yb2: 0.283417 || Zh = 0.279520 || diff: 1.38%\n",
      "S_mbbh    : yb2: 0.043576 || Zh = 0.045941 || diff: 5.28%\n",
      "S_ht      : yb2: 0.199413 || Zh = 0.196426 || diff: 1.51%\n",
      "S_drba1   : yb2: 0.065629 || Zh = 0.064083 || diff: 2.38%\n",
      "S_dphiba1 : yb2: 0.048350 || Zh = 0.046665 || diff: 3.55%\n"
     ]
    }
   ],
   "source": [
    "key_list = ['S_njjet_', 'S_ptb1_', 'S_pta1_', 'S_pta2_', 'S_ptaa_', 'S_mbb_',\n",
    "            'S_maa_', 'S_mb1h_', 'S_mbbh_', 'S_ht_', 'S_drba1_', 'S_dphiba1_']\n",
    "\n",
    "for key in key_list:\n",
    "    yb_val = df_shap[key+'4'].abs().mean()\n",
    "    zh_val = df_shap[key+'1'].abs().mean()\n",
    "    diff = np.abs(200 * (yb_val - zh_val)/(yb_val + zh_val))\n",
    "    print('{:10s}: yb2: {:1.6f} || Zh = {:1.6f} || diff: {:2.2f}%'.format(key[:-1], yb_val, zh_val, diff))"
   ]
  },
  {
   "cell_type": "code",
   "execution_count": 79,
   "metadata": {},
   "outputs": [
    {
     "name": "stdout",
     "output_type": "stream",
     "text": [
      "0    : yb2: -0.469287 || Zh = 0.523911 || diff: 11.00%\n",
      "1    : yb2: 0.711554 || Zh = -0.788804 || diff: 10.30%\n",
      "2    : yb2: -0.038724 || Zh = -0.204066 || diff: 293.68%\n",
      "3    : yb2: 0.092339 || Zh = 0.030748 || diff: 399.69%\n",
      "4    : yb2: 2.200698 || Zh = -2.121355 || diff: 3.67%\n",
      "5    : yb2: -1.792857 || Zh = 1.781623 || diff: 0.63%\n",
      "6    : yb2: -0.232498 || Zh = 0.173665 || diff: 28.97%\n",
      "7    : yb2: 0.092275 || Zh = 0.011514 || diff: 257.03%\n",
      "8    : yb2: 2.138781 || Zh = -2.390957 || diff: 11.13%\n",
      "9    : yb2: 0.909692 || Zh = -1.028797 || diff: 12.29%\n"
     ]
    }
   ],
   "source": [
    "for i in range(10):\n",
    "    yb_val = df_shap.iloc[i][25:36].sum()\n",
    "    zh_val = df_shap.iloc[i][14:25].sum()\n",
    "    diff = np.abs(200 * (yb_val + zh_val)/(yb_val - zh_val))\n",
    "    print('{:5s}: yb2: {:-2.6f} || Zh = {:-2.6f} || diff: {:2.2f}%'.format(str(i), yb_val, zh_val, diff))"
   ]
  },
  {
   "cell_type": "code",
   "execution_count": 72,
   "metadata": {},
   "outputs": [
    {
     "data": {
      "text/plain": [
       "-0.46928718700000005"
      ]
     },
     "execution_count": 72,
     "metadata": {},
     "output_type": "execute_result"
    }
   ],
   "source": [
    "df_shap.iloc[0][25:36].sum()"
   ]
  },
  {
   "cell_type": "code",
   "execution_count": 20,
   "metadata": {},
   "outputs": [
    {
     "data": {
      "text/plain": [
       "0.22142408026540383"
      ]
     },
     "execution_count": 20,
     "metadata": {},
     "output_type": "execute_result"
    }
   ],
   "source": [
    "df_tmp[df_tmp['class']==2]['S_maa_4'].abs().mean()"
   ]
  },
  {
   "cell_type": "code",
   "execution_count": 30,
   "metadata": {},
   "outputs": [
    {
     "data": {
      "text/plain": [
       "0.4824207498614773"
      ]
     },
     "execution_count": 30,
     "metadata": {},
     "output_type": "execute_result"
    }
   ],
   "source": [
    "df_tmp[df_tmp['class']==1]['S_ptaa_4'].abs().mean()"
   ]
  },
  {
   "cell_type": "code",
   "execution_count": 22,
   "metadata": {},
   "outputs": [
    {
     "data": {
      "text/plain": [
       "0.7616166397701345"
      ]
     },
     "execution_count": 22,
     "metadata": {},
     "output_type": "execute_result"
    }
   ],
   "source": [
    "df_tmp[df_tmp['class']==0]['S_maa_4'].abs().mean()"
   ]
  },
  {
   "cell_type": "code",
   "execution_count": 42,
   "metadata": {},
   "outputs": [
    {
     "data": {
      "text/plain": [
       "Index(['Unnamed: 0', 'njjet', 'ptb1', 'pta1', 'pta2', 'ptaa', 'mbb', 'maa',\n",
       "       'mb1h', 'mbbh', 'ht', 'drba1', 'dphiba1', 'S_njjet_1', 'S_ptb1_1',\n",
       "       'S_pta1_1', 'S_pta2_1', 'S_ptaa_1', 'S_mbb_1', 'S_maa_1', 'S_mb1h_1',\n",
       "       'S_mbbh_1', 'S_ht_1', 'S_drba1_1', 'S_dphiba1_1', 'S_njjet_4',\n",
       "       'S_ptb1_4', 'S_pta1_4', 'S_pta2_4', 'S_ptaa_4', 'S_mbb_4', 'S_maa_4',\n",
       "       'S_mb1h_4', 'S_mbbh_4', 'S_ht_4', 'S_drba1_4', 'S_dphiba1_4', 'class'],\n",
       "      dtype='object')"
      ]
     },
     "execution_count": 42,
     "metadata": {},
     "output_type": "execute_result"
    }
   ],
   "source": [
    "df_shap"
   ]
  },
  {
   "cell_type": "code",
   "execution_count": null,
   "metadata": {},
   "outputs": [],
   "source": []
  }
 ],
 "metadata": {
  "kernelspec": {
   "display_name": "PyCharm (Tutorials)",
   "language": "python",
   "name": "pycharm-38c7cf03"
  },
  "language_info": {
   "codemirror_mode": {
    "name": "ipython",
    "version": 3
   },
   "file_extension": ".py",
   "mimetype": "text/x-python",
   "name": "python",
   "nbconvert_exporter": "python",
   "pygments_lexer": "ipython3",
   "version": "3.6.8"
  }
 },
 "nbformat": 4,
 "nbformat_minor": 4
}
